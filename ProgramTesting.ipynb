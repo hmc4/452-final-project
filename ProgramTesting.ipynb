{
 "cells": [
  {
   "cell_type": "markdown",
   "metadata": {},
   "source": [
    "Program testing"
   ]
  },
  {
   "cell_type": "code",
   "execution_count": 1,
   "metadata": {
    "collapsed": true
   },
   "outputs": [],
   "source": [
    "import os                             \n",
    "# Module source: https://docs.python.org/3/library/os.html#files-and-directories\n",
    "import mimetypes                      \n",
    "# Module source: https://docs.python.org/3/library/mimetypes.html\n",
    "import exifread                       \n",
    "# Module source: https://pypi.org/project/ExifRead/\n",
    "import csv                            \n",
    "# Module source: https://docs.python.org/3/library/csv.html"
   ]
  },
  {
   "cell_type": "markdown",
   "metadata": {},
   "source": [
    "Identify photo directory."
   ]
  },
  {
   "cell_type": "code",
   "execution_count": 8,
   "metadata": {},
   "outputs": [],
   "source": [
    "photo_directory = '/Users/heather_m_campbell/Documents/GitHub/452-final-project'"
   ]
  },
  {
   "cell_type": "code",
   "execution_count": 9,
   "metadata": {},
   "outputs": [
    {
     "name": "stdout",
     "output_type": "stream",
     "text": [
      "/Users/heather_m_campbell/Documents/GitHub/452-final-project\n"
     ]
    }
   ],
   "source": [
    "print(photo_directory)"
   ]
  },
  {
   "cell_type": "markdown",
   "metadata": {},
   "source": [
    "Generate the file names in a directory tree by walking the tree (default is top-down). For each directory in the tree rooted at directory top (including top itself), it yields a 3-tuple (dirpath, dirnames, filenames)."
   ]
  },
  {
   "cell_type": "code",
   "execution_count": 10,
   "metadata": {
    "collapsed": true
   },
   "outputs": [],
   "source": [
    "allfiles = os.walk(photo_directory)"
   ]
  },
  {
   "cell_type": "markdown",
   "metadata": {},
   "source": [
    "Loop through allfiles to get filenames in all subdirectories. In each iteration, use nested loop to go through filenames to assign ID to file, get file type, get file name, etc. Then read photo metadata."
   ]
  },
  {
   "cell_type": "code",
   "execution_count": 14,
   "metadata": {},
   "outputs": [
    {
     "ename": "FileNotFoundError",
     "evalue": "[Errno 2] No such file or directory: 'exclude'",
     "output_type": "error",
     "traceback": [
      "\u001b[0;31m---------------------------------------------------------------------------\u001b[0m",
      "\u001b[0;31mFileNotFoundError\u001b[0m                         Traceback (most recent call last)",
      "\u001b[0;32m<ipython-input-14-56ae22a332b4>\u001b[0m in \u001b[0;36m<module>\u001b[0;34m()\u001b[0m\n\u001b[1;32m     27\u001b[0m \u001b[0;34m\u001b[0m\u001b[0m\n\u001b[1;32m     28\u001b[0m     \u001b[0;31m# read photo metadata\u001b[0m\u001b[0;34m\u001b[0m\u001b[0;34m\u001b[0m\u001b[0m\n\u001b[0;32m---> 29\u001b[0;31m         \u001b[0mmetadata\u001b[0m \u001b[0;34m=\u001b[0m \u001b[0mopen\u001b[0m\u001b[0;34m(\u001b[0m\u001b[0mfile\u001b[0m\u001b[0;34m,\u001b[0m \u001b[0;34m'rb'\u001b[0m\u001b[0;34m)\u001b[0m\u001b[0;34m\u001b[0m\u001b[0m\n\u001b[0m\u001b[1;32m     30\u001b[0m         \u001b[0mtags\u001b[0m \u001b[0;34m=\u001b[0m \u001b[0mexifread\u001b[0m\u001b[0;34m.\u001b[0m\u001b[0mprocess_file\u001b[0m\u001b[0;34m(\u001b[0m\u001b[0mmetadata\u001b[0m\u001b[0;34m,\u001b[0m \u001b[0mdetails\u001b[0m\u001b[0;34m=\u001b[0m\u001b[0;32mFalse\u001b[0m\u001b[0;34m)\u001b[0m\u001b[0;34m\u001b[0m\u001b[0m\n\u001b[1;32m     31\u001b[0m         \u001b[0mwidth\u001b[0m \u001b[0;34m=\u001b[0m \u001b[0mtags\u001b[0m\u001b[0;34m.\u001b[0m\u001b[0mget\u001b[0m\u001b[0;34m(\u001b[0m\u001b[0;34m'Image XResolution'\u001b[0m\u001b[0;34m)\u001b[0m\u001b[0;34m\u001b[0m\u001b[0m\n",
      "\u001b[0;31mFileNotFoundError\u001b[0m: [Errno 2] No such file or directory: 'exclude'"
     ]
    }
   ],
   "source": [
    "# create empty list to accumulate lists of data about each file\n",
    "allfiledata = []\n",
    "\n",
    "# initialize counter variable; do this before loops so count does not restart \n",
    "# for each directory\n",
    "file_num = 0\n",
    "\n",
    "# loop through directories (3-tuples) in allfiles object\n",
    "for dir in allfiles:\n",
    "    # create empty list to hold data about each file\n",
    "    file_data = []\n",
    "    # print third value in each tuple (position 2) => filenames in a list\n",
    "    filenames = dir[2]\n",
    "    \n",
    "    # loop through files in filenames list\n",
    "    for file in filenames:\n",
    "        # use counter to assign ID to each file\n",
    "        file_num = file_num + 1\n",
    "        # mimetypes.guess_type() function returns tuple (type, encoding)\n",
    "        # type of file is based on extension (IANA)\n",
    "        file_format = mimetypes.guess_type(file, strict=False)\n",
    "#         file_size = os.stat(file).st_size \n",
    "        # https://docs.python.org/3/library/os.path.html?highlight=getsize\n",
    "        # function to get file size in bytes\n",
    "        # https://docs.python.org/3/library/os.path.html?highlight=getsize\n",
    "        #  file_size = os.path.getsize(file)\n",
    "    \n",
    "    # read photo metadata\n",
    "        metadata = open(file, 'rb')\n",
    "        tags = exifread.process_file(metadata, details=False)\n",
    "        width = tags.get('Image XResolution')\n",
    "        # height =\n",
    "        # units =\n",
    "        # software =\n",
    "        # GPS =\n",
    "        # datetime_image =\n",
    "        # datetime_digitized =\n",
    "\n",
    "        # [0] --> print first value in file_format tuple (type)\n",
    "        print(file_num, file, file_format[0], width)\n",
    "        # put file metadata in list\n",
    "        file_data = [file_num, file, file_format[0], width]\n",
    "        # append file metadata list to big list\n",
    "        allfiledata.append(file_data)"
   ]
  },
  {
   "cell_type": "code",
   "execution_count": 13,
   "metadata": {},
   "outputs": [
    {
     "name": "stdout",
     "output_type": "stream",
     "text": [
      "[]\n"
     ]
    }
   ],
   "source": [
    "print(allfiledata)"
   ]
  },
  {
   "cell_type": "code",
   "execution_count": 2,
   "metadata": {},
   "outputs": [
    {
     "name": "stdout",
     "output_type": "stream",
     "text": [
      "1 .DS_Store None 6148 None\n",
      "2 .gitattributes None 66 None\n",
      "3 EXIF testing.ipynb None 9431 None\n",
      "4 FinalProject.ipynb None 682 None\n",
      "5 Girls Geek Out (23 of 38).jpg image/jpeg 1147640 240\n",
      "6 Girls Geek Out (27 of 38).jpg image/jpeg 1205516 240\n",
      "7 Girls Geek Out (29 of 38).jpg image/jpeg 969649 240\n",
      "8 IMG_1816.jpeg image/jpeg 1694906 72\n",
      "9 LICENSE None 35118 None\n",
      "10 README.md None 20 None\n",
      "11 Untitled.ipynb None 4277 None\n"
     ]
    },
    {
     "ename": "FileNotFoundError",
     "evalue": "[Errno 2] No such file or directory: 'COMMIT_EDITMSG'",
     "output_type": "error",
     "traceback": [
      "\u001b[0;31m---------------------------------------------------------------------------\u001b[0m",
      "\u001b[0;31mFileNotFoundError\u001b[0m                         Traceback (most recent call last)",
      "\u001b[0;32m<ipython-input-2-afddbd996ae7>\u001b[0m in \u001b[0;36m<module>\u001b[0;34m()\u001b[0m\n\u001b[1;32m     13\u001b[0m         \u001b[0mfile_format\u001b[0m \u001b[0;34m=\u001b[0m \u001b[0mmimetypes\u001b[0m\u001b[0;34m.\u001b[0m\u001b[0mguess_type\u001b[0m\u001b[0;34m(\u001b[0m\u001b[0mfile\u001b[0m\u001b[0;34m,\u001b[0m \u001b[0mstrict\u001b[0m\u001b[0;34m=\u001b[0m\u001b[0;32mFalse\u001b[0m\u001b[0;34m)\u001b[0m  \u001b[0;31m# function returns tuple (type, encoding) type of file based on extension (IANA)\u001b[0m\u001b[0;34m\u001b[0m\u001b[0m\n\u001b[1;32m     14\u001b[0m         \u001b[0;31m# file_size = os.stat(file).st_size   # another function to get file size https://docs.python.org/3/library/os.path.html?highlight=getsize\u001b[0m\u001b[0;34m\u001b[0m\u001b[0;34m\u001b[0m\u001b[0m\n\u001b[0;32m---> 15\u001b[0;31m         \u001b[0mfile_size\u001b[0m \u001b[0;34m=\u001b[0m \u001b[0mos\u001b[0m\u001b[0;34m.\u001b[0m\u001b[0mpath\u001b[0m\u001b[0;34m.\u001b[0m\u001b[0mgetsize\u001b[0m\u001b[0;34m(\u001b[0m\u001b[0mfile\u001b[0m\u001b[0;34m)\u001b[0m     \u001b[0;31m# function to get file size in bytes https://docs.python.org/3/library/os.path.html?highlight=getsize\u001b[0m\u001b[0;34m\u001b[0m\u001b[0m\n\u001b[0m\u001b[1;32m     16\u001b[0m \u001b[0;31m# read photo metadata\u001b[0m\u001b[0;34m\u001b[0m\u001b[0;34m\u001b[0m\u001b[0m\n\u001b[1;32m     17\u001b[0m         \u001b[0mmetadata\u001b[0m \u001b[0;34m=\u001b[0m \u001b[0mopen\u001b[0m\u001b[0;34m(\u001b[0m\u001b[0mfile\u001b[0m\u001b[0;34m,\u001b[0m \u001b[0;34m'rb'\u001b[0m\u001b[0;34m)\u001b[0m\u001b[0;34m\u001b[0m\u001b[0m\n",
      "\u001b[0;32m~/anaconda3/lib/python3.6/genericpath.py\u001b[0m in \u001b[0;36mgetsize\u001b[0;34m(filename)\u001b[0m\n\u001b[1;32m     48\u001b[0m \u001b[0;32mdef\u001b[0m \u001b[0mgetsize\u001b[0m\u001b[0;34m(\u001b[0m\u001b[0mfilename\u001b[0m\u001b[0;34m)\u001b[0m\u001b[0;34m:\u001b[0m\u001b[0;34m\u001b[0m\u001b[0m\n\u001b[1;32m     49\u001b[0m     \u001b[0;34m\"\"\"Return the size of a file, reported by os.stat().\"\"\"\u001b[0m\u001b[0;34m\u001b[0m\u001b[0m\n\u001b[0;32m---> 50\u001b[0;31m     \u001b[0;32mreturn\u001b[0m \u001b[0mos\u001b[0m\u001b[0;34m.\u001b[0m\u001b[0mstat\u001b[0m\u001b[0;34m(\u001b[0m\u001b[0mfilename\u001b[0m\u001b[0;34m)\u001b[0m\u001b[0;34m.\u001b[0m\u001b[0mst_size\u001b[0m\u001b[0;34m\u001b[0m\u001b[0m\n\u001b[0m\u001b[1;32m     51\u001b[0m \u001b[0;34m\u001b[0m\u001b[0m\n\u001b[1;32m     52\u001b[0m \u001b[0;34m\u001b[0m\u001b[0m\n",
      "\u001b[0;31mFileNotFoundError\u001b[0m: [Errno 2] No such file or directory: 'COMMIT_EDITMSG'"
     ]
    }
   ],
   "source": [
    "# - collect these new results into a list within the for loop\n",
    "# - use an accumulator to collect all those lists\n",
    "outfile = open('photo_data.csv', 'w')\n",
    "csv_out = csv.writer(outfile)\n",
    "csv_out.writerow(['ID', 'File Name', 'File Format', 'File Size (Bytes)', 'Image Width'] )\n",
    "csv_out.writerows(allfiledata)\n",
    "outfile.close()"
   ]
  }
 ],
 "metadata": {
  "kernelspec": {
   "display_name": "Python 3",
   "language": "python",
   "name": "python3"
  },
  "language_info": {
   "codemirror_mode": {
    "name": "ipython",
    "version": 3
   },
   "file_extension": ".py",
   "mimetype": "text/x-python",
   "name": "python",
   "nbconvert_exporter": "python",
   "pygments_lexer": "ipython3",
   "version": "3.6.3"
  }
 },
 "nbformat": 4,
 "nbformat_minor": 2
}
