{
 "cells": [
  {
   "cell_type": "markdown",
   "metadata": {},
   "source": [
    "Program testing"
   ]
  },
  {
   "cell_type": "code",
   "execution_count": 19,
   "metadata": {
    "collapsed": true
   },
   "outputs": [],
   "source": [
    "import os                             \n",
    "# Module source: https://docs.python.org/3/library/os.html#files-and-directories\n",
    "import mimetypes                      \n",
    "# Module source: https://docs.python.org/3/library/mimetypes.html\n",
    "import exifread                       \n",
    "# Module source: https://pypi.org/project/ExifRead/\n",
    "import csv                            \n",
    "# Module source: https://docs.python.org/3/library/csv.html"
   ]
  },
  {
   "cell_type": "markdown",
   "metadata": {},
   "source": [
    "Identify photo directory."
   ]
  },
  {
   "cell_type": "code",
   "execution_count": 106,
   "metadata": {
    "collapsed": true
   },
   "outputs": [],
   "source": [
    "photo_directory = '/Users/heather_m_campbell/Documents/GitHub/452-final-project/Photos'"
   ]
  },
  {
   "cell_type": "code",
   "execution_count": 107,
   "metadata": {},
   "outputs": [
    {
     "name": "stdout",
     "output_type": "stream",
     "text": [
      "/Users/heather_m_campbell/Documents/GitHub/452-final-project/Photos\n"
     ]
    }
   ],
   "source": [
    "print(photo_directory)"
   ]
  },
  {
   "cell_type": "markdown",
   "metadata": {},
   "source": [
    "Generate the file names in a directory tree by walking the tree (default is top-down). For each directory in the tree rooted at directory top (including top itself), it yields a 3-tuple (dirpath, dirnames, filenames)."
   ]
  },
  {
   "cell_type": "code",
   "execution_count": 108,
   "metadata": {},
   "outputs": [
    {
     "name": "stdout",
     "output_type": "stream",
     "text": [
      "<generator object walk at 0x10cb502b0>\n"
     ]
    }
   ],
   "source": [
    "allfiles = os.walk(photo_directory)\n",
    "print(allfiles)"
   ]
  },
  {
   "cell_type": "markdown",
   "metadata": {},
   "source": [
    "Loop through allfiles to get file names in all directories. For each directory, assign third value in 3-tuple (position 2), which is a list of files in that directory, to the file_names list. Then, in each loop iteration, use a nested loop to append the extracted files to the all_file_names list. After these loops iterate, all files in all directories should be in the all_file_names list."
   ]
  },
  {
   "cell_type": "markdown",
   "metadata": {},
   "source": [
    "For each file in the file_names list, check if file name contains 'ipynb' or 'DS_Store.' Don't want to include those nonimage files in output. In if statement, use Boolean AND to make sure both conditions are met."
   ]
  },
  {
   "cell_type": "code",
   "execution_count": 109,
   "metadata": {},
   "outputs": [
    {
     "name": "stdout",
     "output_type": "stream",
     "text": [
      "38\n",
      "[[1, '/Users/heather_m_campbell/Documents/GitHub/452-final-project/Photos', 'IMG_1816.jpeg'], [2, '/Users/heather_m_campbell/Documents/GitHub/452-final-project/Photos/Girl Geek Week 2013-2', 'Girls Geek Out (10 of 38).jpg'], [3, '/Users/heather_m_campbell/Documents/GitHub/452-final-project/Photos/Girl Geek Week 2013-2', 'Girls Geek Out (11 of 38).jpg'], [4, '/Users/heather_m_campbell/Documents/GitHub/452-final-project/Photos/Girl Geek Week 2013-2', 'Girls Geek Out (12 of 38).jpg'], [5, '/Users/heather_m_campbell/Documents/GitHub/452-final-project/Photos/Girl Geek Week 2013-2', 'Girls Geek Out (13 of 38).jpg'], [6, '/Users/heather_m_campbell/Documents/GitHub/452-final-project/Photos/Girl Geek Week 2013-2', 'Girls Geek Out (14 of 38).jpg'], [7, '/Users/heather_m_campbell/Documents/GitHub/452-final-project/Photos/Girl Geek Week 2013-2', 'Girls Geek Out (15 of 38).jpg'], [8, '/Users/heather_m_campbell/Documents/GitHub/452-final-project/Photos/Girl Geek Week 2013-2', 'Girls Geek Out (16 of 38).jpg'], [9, '/Users/heather_m_campbell/Documents/GitHub/452-final-project/Photos/Girl Geek Week 2013-2', 'Girls Geek Out (17 of 38).jpg'], [10, '/Users/heather_m_campbell/Documents/GitHub/452-final-project/Photos/Girl Geek Week 2013-2', 'Girls Geek Out (18 of 38).jpg'], [11, '/Users/heather_m_campbell/Documents/GitHub/452-final-project/Photos/Girl Geek Week 2013-2', 'Girls Geek Out (19 of 38).jpg'], [12, '/Users/heather_m_campbell/Documents/GitHub/452-final-project/Photos/Girl Geek Week 2013-2', 'Girls Geek Out (20 of 38).jpg'], [13, '/Users/heather_m_campbell/Documents/GitHub/452-final-project/Photos/Girl Geek Week 2013-2', 'Girls Geek Out (21 of 38).jpg'], [14, '/Users/heather_m_campbell/Documents/GitHub/452-final-project/Photos/Girl Geek Week 2013-2', 'Girls Geek Out (22 of 38).jpg'], [15, '/Users/heather_m_campbell/Documents/GitHub/452-final-project/Photos/Girl Geek Week 2013-2', 'Girls Geek Out (23 of 38).jpg'], [16, '/Users/heather_m_campbell/Documents/GitHub/452-final-project/Photos/Girl Geek Week 2013-2', 'Girls Geek Out (24 of 38).jpg'], [17, '/Users/heather_m_campbell/Documents/GitHub/452-final-project/Photos/Girl Geek Week 2013-2', 'Girls Geek Out (25 of 38).jpg'], [18, '/Users/heather_m_campbell/Documents/GitHub/452-final-project/Photos/Girl Geek Week 2013-2', 'Girls Geek Out (26 of 38).jpg'], [19, '/Users/heather_m_campbell/Documents/GitHub/452-final-project/Photos/Girl Geek Week 2013-2', 'Girls Geek Out (27 of 38).jpg'], [20, '/Users/heather_m_campbell/Documents/GitHub/452-final-project/Photos/Girl Geek Week 2013-2', 'Girls Geek Out (28 of 38).jpg'], [21, '/Users/heather_m_campbell/Documents/GitHub/452-final-project/Photos/Girl Geek Week 2013-2', 'Girls Geek Out (29 of 38).jpg'], [22, '/Users/heather_m_campbell/Documents/GitHub/452-final-project/Photos/Girl Geek Week 2013-2', 'Girls Geek Out (30 of 38).jpg'], [23, '/Users/heather_m_campbell/Documents/GitHub/452-final-project/Photos/Girl Geek Week 2013-2', 'Girls Geek Out (31 of 38).jpg'], [24, '/Users/heather_m_campbell/Documents/GitHub/452-final-project/Photos/Girl Geek Week 2013-2', 'Girls Geek Out (32 of 38).jpg'], [25, '/Users/heather_m_campbell/Documents/GitHub/452-final-project/Photos/Girl Geek Week 2013-2', 'Girls Geek Out (33 of 38).jpg'], [26, '/Users/heather_m_campbell/Documents/GitHub/452-final-project/Photos/Girl Geek Week 2013-2', 'Girls Geek Out (34 of 38).jpg'], [27, '/Users/heather_m_campbell/Documents/GitHub/452-final-project/Photos/Girl Geek Week 2013-2', 'Girls Geek Out (35 of 38).jpg'], [28, '/Users/heather_m_campbell/Documents/GitHub/452-final-project/Photos/Girl Geek Week 2013-2', 'Girls Geek Out (36 of 38).jpg'], [29, '/Users/heather_m_campbell/Documents/GitHub/452-final-project/Photos/Girl Geek Week 2013-2', 'Girls Geek Out (37 of 38).jpg'], [30, '/Users/heather_m_campbell/Documents/GitHub/452-final-project/Photos/Girl Geek Week 2013-2', 'Girls Geek Out (38 of 38).jpg'], [31, '/Users/heather_m_campbell/Documents/GitHub/452-final-project/Photos/Girl Geek Week 2013-2', 'Girls Geek Out (39 of 38).jpg'], [32, '/Users/heather_m_campbell/Documents/GitHub/452-final-project/Photos/Girl Geek Week 2013-2', 'Girls Geek Out (40 of 38).jpg'], [33, '/Users/heather_m_campbell/Documents/GitHub/452-final-project/Photos/Girl Geek Week 2013-2', 'Girls Geek Out (41 of 38).jpg'], [34, '/Users/heather_m_campbell/Documents/GitHub/452-final-project/Photos/Girl Geek Week 2013-2', 'Girls Geek Out (42 of 38).jpg'], [35, '/Users/heather_m_campbell/Documents/GitHub/452-final-project/Photos/Girl Geek Week 2013-2', 'Girls Geek Out (43 of 38).jpg'], [36, '/Users/heather_m_campbell/Documents/GitHub/452-final-project/Photos/Girl Geek Week 2013-2', 'Girls Geek Out (45 of 38).jpg'], [37, '/Users/heather_m_campbell/Documents/GitHub/452-final-project/Photos/Girl Geek Week 2013-2', 'Girls Geek Out (46 of 38).jpg'], [38, '/Users/heather_m_campbell/Documents/GitHub/452-final-project/Photos/Girl Geek Week 2013-2', 'Girls Geek Out (47 of 38).jpg']]\n"
     ]
    }
   ],
   "source": [
    "file_num = 0\n",
    "file_names = []\n",
    "file_data = []\n",
    "all_file_data = []\n",
    "\n",
    "for dir in allfiles:\n",
    "    path = dir[0]\n",
    "    file_names = dir[2]\n",
    "#     print(file_names)\n",
    "    for file in file_names:\n",
    "        if 'ipynb' not in file and 'DS_Store' not in file:\n",
    "            file_num = file_num + 1\n",
    "            file_data = [file_num, path, file]\n",
    "            all_file_data.append(file_data)\n",
    "\n",
    "print(len(all_file_data))\n",
    "print(all_file_data)"
   ]
  },
  {
   "cell_type": "markdown",
   "metadata": {},
   "source": [
    "Create empty list for each file's metadata. Create empty list to accumulate all file_data lists. Initialize counter variable so sequential IDs can be assigned to files.\n",
    "\n",
    "mimetypes.guess_type() function returns tuple (type, encoding); type of file is based on extension (IANA); [0] --> print first value in file_format tuple (type)"
   ]
  },
  {
   "cell_type": "markdown",
   "metadata": {},
   "source": [
    "The all_file_data list now comprises a list for each file, containing the file ID number (position 0), path (position 1), and file name (position 2)."
   ]
  },
  {
   "cell_type": "markdown",
   "metadata": {},
   "source": [
    "Read photo metadata. Can't do this via a list; has to access the path of each file."
   ]
  },
  {
   "cell_type": "code",
   "execution_count": 117,
   "metadata": {},
   "outputs": [
    {
     "name": "stdout",
     "output_type": "stream",
     "text": [
      "/Users/heather_m_campbell/Documents/GitHub/452-final-project/Photos/IMG_1816.jpeg image/jpeg 1694906 iPhone 7 11.2.1 72 72 Pixels/Inch [37, 47, 1031/100] 2018:01:05 16:24:09 2018:01:05 16:24:09\n",
      "/Users/heather_m_campbell/Documents/GitHub/452-final-project/Photos/Girl Geek Week 2013-2/Girls Geek Out (10 of 38).jpg image/jpeg 1153326 Canon EOS REBEL T3i Adobe Photoshop Lightroom 4.2 (Windows) 240 240 Pixels/Inch None 2013:02:18 15:26:20 2013:02:18 15:26:20\n",
      "/Users/heather_m_campbell/Documents/GitHub/452-final-project/Photos/Girl Geek Week 2013-2/Girls Geek Out (11 of 38).jpg image/jpeg 602587 Canon EOS REBEL T3i Adobe Photoshop Lightroom 4.2 (Windows) 240 240 Pixels/Inch None 2013:02:18 15:29:39 2013:02:18 15:29:39\n",
      "/Users/heather_m_campbell/Documents/GitHub/452-final-project/Photos/Girl Geek Week 2013-2/Girls Geek Out (12 of 38).jpg image/jpeg 837381 Canon EOS REBEL T3i Adobe Photoshop Lightroom 4.2 (Windows) 240 240 Pixels/Inch None 2013:02:18 15:32:20 2013:02:18 15:32:20\n",
      "/Users/heather_m_campbell/Documents/GitHub/452-final-project/Photos/Girl Geek Week 2013-2/Girls Geek Out (13 of 38).jpg image/jpeg 1296383 Canon EOS REBEL T3i Adobe Photoshop Lightroom 4.2 (Windows) 240 240 Pixels/Inch None 2013:02:18 15:43:16 2013:02:18 15:43:16\n",
      "/Users/heather_m_campbell/Documents/GitHub/452-final-project/Photos/Girl Geek Week 2013-2/Girls Geek Out (14 of 38).jpg image/jpeg 450512 Canon EOS REBEL T3i Adobe Photoshop Lightroom 4.2 (Windows) 240 240 Pixels/Inch None 2013:02:18 15:28:17 2013:02:18 15:28:17\n",
      "/Users/heather_m_campbell/Documents/GitHub/452-final-project/Photos/Girl Geek Week 2013-2/Girls Geek Out (15 of 38).jpg image/jpeg 558368 Canon EOS REBEL T3i Adobe Photoshop Lightroom 4.2 (Windows) 240 240 Pixels/Inch None 2013:02:18 15:30:32 2013:02:18 15:30:32\n",
      "/Users/heather_m_campbell/Documents/GitHub/452-final-project/Photos/Girl Geek Week 2013-2/Girls Geek Out (16 of 38).jpg image/jpeg 1000407 Canon EOS REBEL T3i Adobe Photoshop Lightroom 4.2 (Windows) 240 240 Pixels/Inch None 2013:02:18 15:44:02 2013:02:18 15:44:02\n",
      "/Users/heather_m_campbell/Documents/GitHub/452-final-project/Photos/Girl Geek Week 2013-2/Girls Geek Out (17 of 38).jpg image/jpeg 1238306 Canon EOS REBEL T3i Adobe Photoshop Lightroom 4.2 (Windows) 240 240 Pixels/Inch None 2013:02:18 15:44:35 2013:02:18 15:44:35\n",
      "/Users/heather_m_campbell/Documents/GitHub/452-final-project/Photos/Girl Geek Week 2013-2/Girls Geek Out (18 of 38).jpg image/jpeg 1148564 Canon EOS REBEL T3i Adobe Photoshop Lightroom 4.2 (Windows) 240 240 Pixels/Inch None 2013:02:18 15:47:08 2013:02:18 15:47:08\n",
      "/Users/heather_m_campbell/Documents/GitHub/452-final-project/Photos/Girl Geek Week 2013-2/Girls Geek Out (19 of 38).jpg image/jpeg 963475 Canon EOS REBEL T3i Adobe Photoshop Lightroom 4.2 (Windows) 240 240 Pixels/Inch None 2013:02:18 15:48:50 2013:02:18 15:48:50\n",
      "/Users/heather_m_campbell/Documents/GitHub/452-final-project/Photos/Girl Geek Week 2013-2/Girls Geek Out (20 of 38).jpg image/jpeg 1030709 Canon EOS REBEL T3i Adobe Photoshop Lightroom 4.2 (Windows) 240 240 Pixels/Inch None 2013:02:18 15:49:32 2013:02:18 15:49:32\n",
      "/Users/heather_m_campbell/Documents/GitHub/452-final-project/Photos/Girl Geek Week 2013-2/Girls Geek Out (21 of 38).jpg image/jpeg 1046744 Canon EOS REBEL T3i Adobe Photoshop Lightroom 4.2 (Windows) 240 240 Pixels/Inch None 2013:02:18 15:49:10 2013:02:18 15:49:10\n",
      "/Users/heather_m_campbell/Documents/GitHub/452-final-project/Photos/Girl Geek Week 2013-2/Girls Geek Out (22 of 38).jpg image/jpeg 957875 Canon EOS REBEL T3i Adobe Photoshop Lightroom 4.2 (Windows) 240 240 Pixels/Inch None 2013:02:18 15:49:40 2013:02:18 15:49:40\n",
      "/Users/heather_m_campbell/Documents/GitHub/452-final-project/Photos/Girl Geek Week 2013-2/Girls Geek Out (23 of 38).jpg image/jpeg 1147640 Canon EOS REBEL T3i Adobe Photoshop Lightroom 4.2 (Windows) 240 240 Pixels/Inch None 2013:02:18 15:51:28 2013:02:18 15:51:28\n",
      "/Users/heather_m_campbell/Documents/GitHub/452-final-project/Photos/Girl Geek Week 2013-2/Girls Geek Out (24 of 38).jpg image/jpeg 1200703 Canon EOS REBEL T3i Adobe Photoshop Lightroom 4.2 (Windows) 240 240 Pixels/Inch None 2013:02:18 16:15:54 2013:02:18 16:15:54\n",
      "/Users/heather_m_campbell/Documents/GitHub/452-final-project/Photos/Girl Geek Week 2013-2/Girls Geek Out (25 of 38).jpg image/jpeg 1131635 Canon EOS REBEL T3i Adobe Photoshop Lightroom 4.2 (Windows) 240 240 Pixels/Inch None 2013:02:18 15:58:41 2013:02:18 15:58:41\n",
      "/Users/heather_m_campbell/Documents/GitHub/452-final-project/Photos/Girl Geek Week 2013-2/Girls Geek Out (26 of 38).jpg image/jpeg 1105585 Canon EOS REBEL T3i Adobe Photoshop Lightroom 4.2 (Windows) 240 240 Pixels/Inch None 2013:02:18 15:58:49 2013:02:18 15:58:49\n",
      "/Users/heather_m_campbell/Documents/GitHub/452-final-project/Photos/Girl Geek Week 2013-2/Girls Geek Out (27 of 38).jpg image/jpeg 1205516 Canon EOS REBEL T3i Adobe Photoshop Lightroom 4.2 (Windows) 240 240 Pixels/Inch None 2013:02:18 15:59:40 2013:02:18 15:59:40\n",
      "/Users/heather_m_campbell/Documents/GitHub/452-final-project/Photos/Girl Geek Week 2013-2/Girls Geek Out (28 of 38).jpg image/jpeg 1098957 Canon EOS REBEL T3i Adobe Photoshop Lightroom 4.2 (Windows) 240 240 Pixels/Inch None 2013:02:18 16:00:36 2013:02:18 16:00:36\n",
      "/Users/heather_m_campbell/Documents/GitHub/452-final-project/Photos/Girl Geek Week 2013-2/Girls Geek Out (29 of 38).jpg image/jpeg 969649 Canon EOS REBEL T3i Adobe Photoshop Lightroom 4.2 (Windows) 240 240 Pixels/Inch None 2013:02:18 16:01:54 2013:02:18 16:01:54\n",
      "/Users/heather_m_campbell/Documents/GitHub/452-final-project/Photos/Girl Geek Week 2013-2/Girls Geek Out (30 of 38).jpg image/jpeg 923028 Canon EOS REBEL T3i Adobe Photoshop Lightroom 4.2 (Windows) 240 240 Pixels/Inch None 2013:02:18 16:02:15 2013:02:18 16:02:15\n",
      "/Users/heather_m_campbell/Documents/GitHub/452-final-project/Photos/Girl Geek Week 2013-2/Girls Geek Out (31 of 38).jpg image/jpeg 861981 Canon EOS REBEL T3i Adobe Photoshop Lightroom 4.2 (Windows) 240 240 Pixels/Inch None 2013:02:18 15:49:24 2013:02:18 15:49:24\n",
      "/Users/heather_m_campbell/Documents/GitHub/452-final-project/Photos/Girl Geek Week 2013-2/Girls Geek Out (32 of 38).jpg image/jpeg 1029034 Canon EOS REBEL T3i Adobe Photoshop Lightroom 4.2 (Windows) 240 240 Pixels/Inch None 2013:02:18 16:12:29 2013:02:18 16:12:29\n",
      "/Users/heather_m_campbell/Documents/GitHub/452-final-project/Photos/Girl Geek Week 2013-2/Girls Geek Out (33 of 38).jpg image/jpeg 968645 Canon EOS REBEL T3i Adobe Photoshop Lightroom 4.2 (Windows) 240 240 Pixels/Inch None 2013:02:18 16:15:09 2013:02:18 16:15:09\n",
      "/Users/heather_m_campbell/Documents/GitHub/452-final-project/Photos/Girl Geek Week 2013-2/Girls Geek Out (34 of 38).jpg image/jpeg 1109026 Canon EOS REBEL T3i Adobe Photoshop Lightroom 4.2 (Windows) 240 240 Pixels/Inch None 2013:02:18 16:15:25 2013:02:18 16:15:25\n",
      "/Users/heather_m_campbell/Documents/GitHub/452-final-project/Photos/Girl Geek Week 2013-2/Girls Geek Out (35 of 38).jpg image/jpeg 1018892 Canon EOS REBEL T3i Adobe Photoshop Lightroom 4.2 (Windows) 240 240 Pixels/Inch None 2013:02:18 16:16:47 2013:02:18 16:16:47\n",
      "/Users/heather_m_campbell/Documents/GitHub/452-final-project/Photos/Girl Geek Week 2013-2/Girls Geek Out (36 of 38).jpg image/jpeg 1139116 Canon EOS REBEL T3i Adobe Photoshop Lightroom 4.2 (Windows) 240 240 Pixels/Inch None 2013:02:18 16:20:16 2013:02:18 16:20:16\n",
      "/Users/heather_m_campbell/Documents/GitHub/452-final-project/Photos/Girl Geek Week 2013-2/Girls Geek Out (37 of 38).jpg image/jpeg 998879 Canon EOS REBEL T3i Adobe Photoshop Lightroom 4.2 (Windows) 240 240 Pixels/Inch None 2013:02:18 16:28:45 2013:02:18 16:28:45\n",
      "/Users/heather_m_campbell/Documents/GitHub/452-final-project/Photos/Girl Geek Week 2013-2/Girls Geek Out (38 of 38).jpg image/jpeg 1149902 Canon EOS REBEL T3i Adobe Photoshop Lightroom 4.2 (Windows) 240 240 Pixels/Inch None 2013:02:18 16:29:27 2013:02:18 16:29:27\n",
      "/Users/heather_m_campbell/Documents/GitHub/452-final-project/Photos/Girl Geek Week 2013-2/Girls Geek Out (39 of 38).jpg image/jpeg 934352 Canon EOS REBEL T3i Adobe Photoshop Lightroom 4.2 (Windows) 240 240 Pixels/Inch None 2013:02:18 16:25:27 2013:02:18 16:25:27\n",
      "/Users/heather_m_campbell/Documents/GitHub/452-final-project/Photos/Girl Geek Week 2013-2/Girls Geek Out (40 of 38).jpg image/jpeg 1044339 Canon EOS REBEL T3i Adobe Photoshop Lightroom 4.2 (Windows) 240 240 Pixels/Inch None 2013:02:18 16:25:30 2013:02:18 16:25:30\n",
      "/Users/heather_m_campbell/Documents/GitHub/452-final-project/Photos/Girl Geek Week 2013-2/Girls Geek Out (41 of 38).jpg image/jpeg 1011924 Canon EOS REBEL T3i Adobe Photoshop Lightroom 4.2 (Windows) 240 240 Pixels/Inch None 2013:02:18 16:30:26 2013:02:18 16:30:26\n",
      "/Users/heather_m_campbell/Documents/GitHub/452-final-project/Photos/Girl Geek Week 2013-2/Girls Geek Out (42 of 38).jpg image/jpeg 1019871 Canon EOS REBEL T3i Adobe Photoshop Lightroom 4.2 (Windows) 240 240 Pixels/Inch None 2013:02:18 16:30:31 2013:02:18 16:30:31\n",
      "/Users/heather_m_campbell/Documents/GitHub/452-final-project/Photos/Girl Geek Week 2013-2/Girls Geek Out (43 of 38).jpg image/jpeg 1300347 Canon EOS REBEL T3i Adobe Photoshop Lightroom 4.2 (Windows) 240 240 Pixels/Inch None 2013:02:18 16:33:00 2013:02:18 16:33:00\n",
      "/Users/heather_m_campbell/Documents/GitHub/452-final-project/Photos/Girl Geek Week 2013-2/Girls Geek Out (45 of 38).jpg image/jpeg 954967 Canon EOS REBEL T3i Adobe Photoshop Lightroom 4.2 (Windows) 240 240 Pixels/Inch None 2013:02:18 16:39:21 2013:02:18 16:39:21\n",
      "/Users/heather_m_campbell/Documents/GitHub/452-final-project/Photos/Girl Geek Week 2013-2/Girls Geek Out (46 of 38).jpg image/jpeg 955586 Canon EOS REBEL T3i Adobe Photoshop Lightroom 4.2 (Windows) 240 240 Pixels/Inch None 2013:02:18 16:41:58 2013:02:18 16:41:58\n",
      "/Users/heather_m_campbell/Documents/GitHub/452-final-project/Photos/Girl Geek Week 2013-2/Girls Geek Out (47 of 38).jpg image/jpeg 1065837 Canon EOS REBEL T3i Adobe Photoshop Lightroom 4.2 (Windows) 240 240 Pixels/Inch None 2013:02:18 16:45:27 2013:02:18 16:45:27\n"
     ]
    }
   ],
   "source": [
    "file_metadata = []\n",
    "\n",
    "for file in all_file_data:\n",
    "    file_path = file[1] + '/' + file[2]    \n",
    "    file_format = mimetypes.guess_type(file_path, strict=False)\n",
    "    file_size = os.stat(file_path).st_size\n",
    "    image_metadata = open(file_path, 'rb')\n",
    "    tags = exifread.process_file(image_metadata, details=False)\n",
    "    camera = tags.get('Image Model')\n",
    "    image_software = tags.get('Image Software')\n",
    "    image_width = tags.get('Image XResolution')\n",
    "    image_height = tags.get('Image YResolution')\n",
    "    image_units = tags.get('Image ResolutionUnit')\n",
    "    latitude = tags.get('GPS GPSLatitude') # generates a list of coordinates\n",
    "    datetime_original = tags.get('EXIF DateTimeOriginal')\n",
    "    datetime_digitized = tags.get('EXIF DateTimeOriginal')\n",
    "    print(file_path, file_format[0], file_size, camera, image_software, image_width, \n",
    "          image_height, image_units, latitude, datetime_original, datetime_digitized)\n",
    "    \n",
    "#     file_data = [file_num, file, file_format[0]]\n",
    "#     all_file_data.append(file_data)\n",
    "    \n",
    "# print(all_file_data)"
   ]
  },
  {
   "cell_type": "code",
   "execution_count": 2,
   "metadata": {},
   "outputs": [
    {
     "name": "stdout",
     "output_type": "stream",
     "text": [
      "1 .DS_Store None 6148 None\n",
      "2 .gitattributes None 66 None\n",
      "3 EXIF testing.ipynb None 9431 None\n",
      "4 FinalProject.ipynb None 682 None\n",
      "5 Girls Geek Out (23 of 38).jpg image/jpeg 1147640 240\n",
      "6 Girls Geek Out (27 of 38).jpg image/jpeg 1205516 240\n",
      "7 Girls Geek Out (29 of 38).jpg image/jpeg 969649 240\n",
      "8 IMG_1816.jpeg image/jpeg 1694906 72\n",
      "9 LICENSE None 35118 None\n",
      "10 README.md None 20 None\n",
      "11 Untitled.ipynb None 4277 None\n"
     ]
    },
    {
     "ename": "FileNotFoundError",
     "evalue": "[Errno 2] No such file or directory: 'COMMIT_EDITMSG'",
     "output_type": "error",
     "traceback": [
      "\u001b[0;31m---------------------------------------------------------------------------\u001b[0m",
      "\u001b[0;31mFileNotFoundError\u001b[0m                         Traceback (most recent call last)",
      "\u001b[0;32m<ipython-input-2-afddbd996ae7>\u001b[0m in \u001b[0;36m<module>\u001b[0;34m()\u001b[0m\n\u001b[1;32m     13\u001b[0m         \u001b[0mfile_format\u001b[0m \u001b[0;34m=\u001b[0m \u001b[0mmimetypes\u001b[0m\u001b[0;34m.\u001b[0m\u001b[0mguess_type\u001b[0m\u001b[0;34m(\u001b[0m\u001b[0mfile\u001b[0m\u001b[0;34m,\u001b[0m \u001b[0mstrict\u001b[0m\u001b[0;34m=\u001b[0m\u001b[0;32mFalse\u001b[0m\u001b[0;34m)\u001b[0m  \u001b[0;31m# function returns tuple (type, encoding) type of file based on extension (IANA)\u001b[0m\u001b[0;34m\u001b[0m\u001b[0m\n\u001b[1;32m     14\u001b[0m         \u001b[0;31m# file_size = os.stat(file).st_size   # another function to get file size https://docs.python.org/3/library/os.path.html?highlight=getsize\u001b[0m\u001b[0;34m\u001b[0m\u001b[0;34m\u001b[0m\u001b[0m\n\u001b[0;32m---> 15\u001b[0;31m         \u001b[0mfile_size\u001b[0m \u001b[0;34m=\u001b[0m \u001b[0mos\u001b[0m\u001b[0;34m.\u001b[0m\u001b[0mpath\u001b[0m\u001b[0;34m.\u001b[0m\u001b[0mgetsize\u001b[0m\u001b[0;34m(\u001b[0m\u001b[0mfile\u001b[0m\u001b[0;34m)\u001b[0m     \u001b[0;31m# function to get file size in bytes https://docs.python.org/3/library/os.path.html?highlight=getsize\u001b[0m\u001b[0;34m\u001b[0m\u001b[0m\n\u001b[0m\u001b[1;32m     16\u001b[0m \u001b[0;31m# read photo metadata\u001b[0m\u001b[0;34m\u001b[0m\u001b[0;34m\u001b[0m\u001b[0m\n\u001b[1;32m     17\u001b[0m         \u001b[0mmetadata\u001b[0m \u001b[0;34m=\u001b[0m \u001b[0mopen\u001b[0m\u001b[0;34m(\u001b[0m\u001b[0mfile\u001b[0m\u001b[0;34m,\u001b[0m \u001b[0;34m'rb'\u001b[0m\u001b[0;34m)\u001b[0m\u001b[0;34m\u001b[0m\u001b[0m\n",
      "\u001b[0;32m~/anaconda3/lib/python3.6/genericpath.py\u001b[0m in \u001b[0;36mgetsize\u001b[0;34m(filename)\u001b[0m\n\u001b[1;32m     48\u001b[0m \u001b[0;32mdef\u001b[0m \u001b[0mgetsize\u001b[0m\u001b[0;34m(\u001b[0m\u001b[0mfilename\u001b[0m\u001b[0;34m)\u001b[0m\u001b[0;34m:\u001b[0m\u001b[0;34m\u001b[0m\u001b[0m\n\u001b[1;32m     49\u001b[0m     \u001b[0;34m\"\"\"Return the size of a file, reported by os.stat().\"\"\"\u001b[0m\u001b[0;34m\u001b[0m\u001b[0m\n\u001b[0;32m---> 50\u001b[0;31m     \u001b[0;32mreturn\u001b[0m \u001b[0mos\u001b[0m\u001b[0;34m.\u001b[0m\u001b[0mstat\u001b[0m\u001b[0;34m(\u001b[0m\u001b[0mfilename\u001b[0m\u001b[0;34m)\u001b[0m\u001b[0;34m.\u001b[0m\u001b[0mst_size\u001b[0m\u001b[0;34m\u001b[0m\u001b[0m\n\u001b[0m\u001b[1;32m     51\u001b[0m \u001b[0;34m\u001b[0m\u001b[0m\n\u001b[1;32m     52\u001b[0m \u001b[0;34m\u001b[0m\u001b[0m\n",
      "\u001b[0;31mFileNotFoundError\u001b[0m: [Errno 2] No such file or directory: 'COMMIT_EDITMSG'"
     ]
    }
   ],
   "source": [
    "# - collect these new results into a list within the for loop\n",
    "# - use an accumulator to collect all those lists\n",
    "outfile = open('photo_data.csv', 'w')\n",
    "csv_out = csv.writer(outfile)\n",
    "csv_out.writerow(['ID', 'File Name', 'File Format', 'File Size (Bytes)', 'Image Width'] )\n",
    "csv_out.writerows(allfiledata)\n",
    "outfile.close()"
   ]
  }
 ],
 "metadata": {
  "kernelspec": {
   "display_name": "Python 3",
   "language": "python",
   "name": "python3"
  },
  "language_info": {
   "codemirror_mode": {
    "name": "ipython",
    "version": 3
   },
   "file_extension": ".py",
   "mimetype": "text/x-python",
   "name": "python",
   "nbconvert_exporter": "python",
   "pygments_lexer": "ipython3",
   "version": "3.6.3"
  }
 },
 "nbformat": 4,
 "nbformat_minor": 2
}
