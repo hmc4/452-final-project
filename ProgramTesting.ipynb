{
 "cells": [
  {
   "cell_type": "markdown",
   "metadata": {},
   "source": [
    "Program testing"
   ]
  },
  {
   "cell_type": "code",
   "execution_count": 1,
   "metadata": {
    "collapsed": true
   },
   "outputs": [],
   "source": [
    "import os                             \n",
    "# Module source: https://docs.python.org/3/library/os.html#files-and-directories\n",
    "import mimetypes                      \n",
    "# Module source: https://docs.python.org/3/library/mimetypes.html\n",
    "import exifread                       \n",
    "# Module source: https://pypi.org/project/ExifRead/\n",
    "import csv                            \n",
    "# Module source: https://docs.python.org/3/library/csv.html"
   ]
  },
  {
   "cell_type": "markdown",
   "metadata": {},
   "source": [
    "Identify photo directory."
   ]
  },
  {
   "cell_type": "code",
   "execution_count": 38,
   "metadata": {},
   "outputs": [],
   "source": [
    "photo_directory = '/Users/heather_m_campbell/Documents/GitHub/452-final-project'"
   ]
  },
  {
   "cell_type": "code",
   "execution_count": 39,
   "metadata": {},
   "outputs": [
    {
     "name": "stdout",
     "output_type": "stream",
     "text": [
      "/Users/heather_m_campbell/Documents/GitHub/452-final-project\n"
     ]
    }
   ],
   "source": [
    "print(photo_directory)"
   ]
  },
  {
   "cell_type": "markdown",
   "metadata": {},
   "source": [
    "Generate the file names in a directory tree by walking the tree (default is top-down). For each directory in the tree rooted at directory top (including top itself), it yields a 3-tuple (dirpath, dirnames, filenames)."
   ]
  },
  {
   "cell_type": "code",
   "execution_count": 40,
   "metadata": {},
   "outputs": [],
   "source": [
    "allfiles = os.walk(photo_directory)"
   ]
  },
  {
   "cell_type": "markdown",
   "metadata": {},
   "source": [
    "Loop through allfiles to get filenames in all subdirectories. In each iteration, use nested loop to go through filenames to assign ID to file, get file type, get file name, etc. Then read photo metadata."
   ]
  },
  {
   "cell_type": "code",
   "execution_count": 41,
   "metadata": {},
   "outputs": [
    {
     "name": "stdout",
     "output_type": "stream",
     "text": [
      "['.git', '.ipynb_checkpoints', 'Photos'] ['.DS_Store', '.gitattributes', 'EXIF testing.ipynb', 'FinalProject.ipynb', 'LICENSE', 'ProgramTesting.ipynb', 'README.md']\n",
      "['branches', 'hooks', 'info', 'lfs', 'logs', 'objects', 'refs'] ['COMMIT_EDITMSG', 'config', 'description', 'FETCH_HEAD', 'HEAD', 'index', 'ORIG_HEAD']\n",
      "[] []\n",
      "[] ['applypatch-msg.sample', 'commit-msg.sample', 'fsmonitor-watchman.sample', 'post-update.sample', 'pre-applypatch.sample', 'pre-commit.sample', 'pre-push.sample', 'pre-rebase.sample', 'pre-receive.sample', 'prepare-commit-msg.sample', 'update.sample']\n",
      "[] ['exclude']\n",
      "['objects', 'tmp'] []\n",
      "['logs'] []\n",
      "[] []\n",
      "['objects'] []\n",
      "[] []\n",
      "['refs'] ['HEAD']\n",
      "['heads', 'remotes'] []\n",
      "[] ['master']\n",
      "['origin'] []\n",
      "[] ['master']\n",
      "['0e', '16', '2f', '3a', '50', '56', '62', '82', '88', '96', '9e', 'a5', 'b1', 'b2', 'b6', 'bb', 'bd', 'c8', 'cc', 'd0', 'd1', 'd5', 'd8', 'd9', 'df', 'e8', 'fd', 'fe', 'info', 'pack'] []\n",
      "[] ['21760b2b6d2b0e7aed164a2d31d06b2a2396a6', '5b6411799708ed4a623724df8171c78d7fd0a8']\n",
      "[] ['c832cb68003a5673c083a37ab1a9d8ea3fd798']\n",
      "[] ['d64429bf421126b7000c94ce0f6fd186fbd01f']\n",
      "[] ['7f84ad8f3d8b8797c405826fe4b8dcd3e605b7']\n",
      "[] ['08ddfcf53c02e82d7eee2e57c38e5672ef89f6']\n",
      "[] ['3a452ce3e68c765a1e9e3edbf85e58c5fda249']\n",
      "[] ['d990c01df0a0f3af1bbe4e27271ab7a99417df']\n",
      "[] ['1f6ec5d07e726ffac02f34c60b7dcab64ad431']\n",
      "[] ['0d768a1f8773167d8e40788bc39eae0d17d474']\n",
      "[] ['f161cffb72d1776cef9dfea3ea676e75ccfce1']\n",
      "[] ['18da2fcd989c622d578a5fdded611897d1e7ea']\n",
      "[] ['bafde9084f1afba5b7dbff0ef92065f675bb28']\n",
      "[] ['56c7c8bcecfdb685d42d956f39ea3096b5a28d']\n",
      "[] ['bd8d7db14f59a62a19d65bdd06c2a6a7713bc9']\n",
      "[] ['20bf3fb5f7f3b13563cfb79de9b73cbc3a6d90']\n",
      "[] ['fb11a9ebfac595566073ae7e3d5f5a300bf642']\n",
      "[] ['3532ea227b34e839a86a85a9b73bf81a3df315']\n",
      "[] ['c9499fda2ffe632c88a9336f9d31832f2c5fa9']\n",
      "[] ['06351883edccde214489e5a8ef519dcaada332']\n",
      "[] ['fdc06967ed18f19929126dd737bc811fe2fc4e']\n",
      "[] ['06f20f7ae0aa7dd26b27d3ba5fbca1ccb31285']\n",
      "[] ['49aa7e72df547d7b9b1dd404766c45cc411ea4']\n",
      "[] ['e3a0fa09ec260082afa10fb7af8efa3540dca1']\n",
      "[] ['6d44e38869d243c70d60cfc5e811c79dbec302']\n",
      "[] ['e0770424b2a19faf507a501ebfc23be8f54e7b']\n",
      "[] ['f27bacc04dce4548914102ea27859d1f6f1a1b']\n",
      "[] ['3fe873bf98993fbcc4c383622c7ec77a8d5e57']\n",
      "[] ['490f6d9aceb2eefd153389c1ea47c24c3640e2']\n",
      "[] []\n",
      "[] []\n",
      "['heads', 'remotes', 'tags'] []\n",
      "[] ['master']\n",
      "['origin'] []\n",
      "[] ['master']\n",
      "[] []\n",
      "[] ['EXIF testing-checkpoint.ipynb', 'FinalProject-checkpoint.ipynb', 'ProgramTesting-checkpoint.ipynb']\n",
      "[] ['Girls Geek Out (23 of 38).jpg', 'Girls Geek Out (27 of 38).jpg', 'Girls Geek Out (29 of 38).jpg', 'IMG_1816.jpeg']\n"
     ]
    }
   ],
   "source": [
    "# create empty list to accumulate lists of data about each file\n",
    "allfiledata = []\n",
    "\n",
    "# initialize counter variable; do this before loops so count does not restart \n",
    "# for each directory\n",
    "file_num = 0\n",
    "\n",
    "# loop through directories (3-tuples) in allfiles object\n",
    "for dir in allfiles:\n",
    "#     if dir[1] == 'Photos':\n",
    "    # create empty list to hold data about each file\n",
    "    file_data = []\n",
    "    # third value in each tuple (position 2) => filenames in a list\n",
    "    dirname = dir[1]\n",
    "    filenames = dir[2]\n",
    "    print(dirname, filenames)    "
   ]
  },
  {
   "cell_type": "code",
   "execution_count": 21,
   "metadata": {},
   "outputs": [],
   "source": [
    "    # loop through files in filenames list\n",
    "    for file in filenames:\n",
    "        # use counter to assign ID to each file\n",
    "        file_num = file_num + 1\n",
    "        # mimetypes.guess_type() function returns tuple (type, encoding)\n",
    "        # type of file is based on extension (IANA)\n",
    "        file_format = mimetypes.guess_type(file, strict=False)\n",
    "#         file_size = os.stat(file).st_size \n",
    "        # https://docs.python.org/3/library/os.path.html?highlight=getsize\n",
    "        # function to get file size in bytes\n",
    "        # https://docs.python.org/3/library/os.path.html?highlight=getsize\n",
    "        #  file_size = os.path.getsize(file)\n",
    "    \n",
    "    \n",
    "        # [0] --> print first value in file_format tuple (type)\n",
    "        print(file_num, file, file_format[0])\n",
    "        # put file metadata in list\n",
    "#         file_data = [file_num, file, file_format[0]]\n",
    "        # append file metadata list to big list\n",
    "#         allfiledata.append(file_data)"
   ]
  },
  {
   "cell_type": "code",
   "execution_count": 22,
   "metadata": {},
   "outputs": [
    {
     "name": "stdout",
     "output_type": "stream",
     "text": [
      "[]\n"
     ]
    }
   ],
   "source": [
    "print(allfiledata)"
   ]
  },
  {
   "cell_type": "code",
   "execution_count": 2,
   "metadata": {},
   "outputs": [
    {
     "name": "stdout",
     "output_type": "stream",
     "text": [
      "1 .DS_Store None 6148 None\n",
      "2 .gitattributes None 66 None\n",
      "3 EXIF testing.ipynb None 9431 None\n",
      "4 FinalProject.ipynb None 682 None\n",
      "5 Girls Geek Out (23 of 38).jpg image/jpeg 1147640 240\n",
      "6 Girls Geek Out (27 of 38).jpg image/jpeg 1205516 240\n",
      "7 Girls Geek Out (29 of 38).jpg image/jpeg 969649 240\n",
      "8 IMG_1816.jpeg image/jpeg 1694906 72\n",
      "9 LICENSE None 35118 None\n",
      "10 README.md None 20 None\n",
      "11 Untitled.ipynb None 4277 None\n"
     ]
    },
    {
     "ename": "FileNotFoundError",
     "evalue": "[Errno 2] No such file or directory: 'COMMIT_EDITMSG'",
     "output_type": "error",
     "traceback": [
      "\u001b[0;31m---------------------------------------------------------------------------\u001b[0m",
      "\u001b[0;31mFileNotFoundError\u001b[0m                         Traceback (most recent call last)",
      "\u001b[0;32m<ipython-input-2-afddbd996ae7>\u001b[0m in \u001b[0;36m<module>\u001b[0;34m()\u001b[0m\n\u001b[1;32m     13\u001b[0m         \u001b[0mfile_format\u001b[0m \u001b[0;34m=\u001b[0m \u001b[0mmimetypes\u001b[0m\u001b[0;34m.\u001b[0m\u001b[0mguess_type\u001b[0m\u001b[0;34m(\u001b[0m\u001b[0mfile\u001b[0m\u001b[0;34m,\u001b[0m \u001b[0mstrict\u001b[0m\u001b[0;34m=\u001b[0m\u001b[0;32mFalse\u001b[0m\u001b[0;34m)\u001b[0m  \u001b[0;31m# function returns tuple (type, encoding) type of file based on extension (IANA)\u001b[0m\u001b[0;34m\u001b[0m\u001b[0m\n\u001b[1;32m     14\u001b[0m         \u001b[0;31m# file_size = os.stat(file).st_size   # another function to get file size https://docs.python.org/3/library/os.path.html?highlight=getsize\u001b[0m\u001b[0;34m\u001b[0m\u001b[0;34m\u001b[0m\u001b[0m\n\u001b[0;32m---> 15\u001b[0;31m         \u001b[0mfile_size\u001b[0m \u001b[0;34m=\u001b[0m \u001b[0mos\u001b[0m\u001b[0;34m.\u001b[0m\u001b[0mpath\u001b[0m\u001b[0;34m.\u001b[0m\u001b[0mgetsize\u001b[0m\u001b[0;34m(\u001b[0m\u001b[0mfile\u001b[0m\u001b[0;34m)\u001b[0m     \u001b[0;31m# function to get file size in bytes https://docs.python.org/3/library/os.path.html?highlight=getsize\u001b[0m\u001b[0;34m\u001b[0m\u001b[0m\n\u001b[0m\u001b[1;32m     16\u001b[0m \u001b[0;31m# read photo metadata\u001b[0m\u001b[0;34m\u001b[0m\u001b[0;34m\u001b[0m\u001b[0m\n\u001b[1;32m     17\u001b[0m         \u001b[0mmetadata\u001b[0m \u001b[0;34m=\u001b[0m \u001b[0mopen\u001b[0m\u001b[0;34m(\u001b[0m\u001b[0mfile\u001b[0m\u001b[0;34m,\u001b[0m \u001b[0;34m'rb'\u001b[0m\u001b[0;34m)\u001b[0m\u001b[0;34m\u001b[0m\u001b[0m\n",
      "\u001b[0;32m~/anaconda3/lib/python3.6/genericpath.py\u001b[0m in \u001b[0;36mgetsize\u001b[0;34m(filename)\u001b[0m\n\u001b[1;32m     48\u001b[0m \u001b[0;32mdef\u001b[0m \u001b[0mgetsize\u001b[0m\u001b[0;34m(\u001b[0m\u001b[0mfilename\u001b[0m\u001b[0;34m)\u001b[0m\u001b[0;34m:\u001b[0m\u001b[0;34m\u001b[0m\u001b[0m\n\u001b[1;32m     49\u001b[0m     \u001b[0;34m\"\"\"Return the size of a file, reported by os.stat().\"\"\"\u001b[0m\u001b[0;34m\u001b[0m\u001b[0m\n\u001b[0;32m---> 50\u001b[0;31m     \u001b[0;32mreturn\u001b[0m \u001b[0mos\u001b[0m\u001b[0;34m.\u001b[0m\u001b[0mstat\u001b[0m\u001b[0;34m(\u001b[0m\u001b[0mfilename\u001b[0m\u001b[0;34m)\u001b[0m\u001b[0;34m.\u001b[0m\u001b[0mst_size\u001b[0m\u001b[0;34m\u001b[0m\u001b[0m\n\u001b[0m\u001b[1;32m     51\u001b[0m \u001b[0;34m\u001b[0m\u001b[0m\n\u001b[1;32m     52\u001b[0m \u001b[0;34m\u001b[0m\u001b[0m\n",
      "\u001b[0;31mFileNotFoundError\u001b[0m: [Errno 2] No such file or directory: 'COMMIT_EDITMSG'"
     ]
    }
   ],
   "source": [
    "# - collect these new results into a list within the for loop\n",
    "# - use an accumulator to collect all those lists\n",
    "outfile = open('photo_data.csv', 'w')\n",
    "csv_out = csv.writer(outfile)\n",
    "csv_out.writerow(['ID', 'File Name', 'File Format', 'File Size (Bytes)', 'Image Width'] )\n",
    "csv_out.writerows(allfiledata)\n",
    "outfile.close()"
   ]
  }
 ],
 "metadata": {
  "kernelspec": {
   "display_name": "Python 3",
   "language": "python",
   "name": "python3"
  },
  "language_info": {
   "codemirror_mode": {
    "name": "ipython",
    "version": 3
   },
   "file_extension": ".py",
   "mimetype": "text/x-python",
   "name": "python",
   "nbconvert_exporter": "python",
   "pygments_lexer": "ipython3",
   "version": "3.6.3"
  }
 },
 "nbformat": 4,
 "nbformat_minor": 2
}
