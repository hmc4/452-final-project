{
 "cells": [
  {
   "cell_type": "markdown",
   "metadata": {},
   "source": [
    "Program testing"
   ]
  },
  {
   "cell_type": "code",
   "execution_count": 19,
   "metadata": {
    "collapsed": true
   },
   "outputs": [],
   "source": [
    "import os                             \n",
    "# Module source: https://docs.python.org/3/library/os.html#files-and-directories\n",
    "import mimetypes                      \n",
    "# Module source: https://docs.python.org/3/library/mimetypes.html\n",
    "import exifread                       \n",
    "# Module source: https://pypi.org/project/ExifRead/\n",
    "import csv                            \n",
    "# Module source: https://docs.python.org/3/library/csv.html"
   ]
  },
  {
   "cell_type": "markdown",
   "metadata": {},
   "source": [
    "Identify photo directory."
   ]
  },
  {
   "cell_type": "code",
   "execution_count": 102,
   "metadata": {
    "collapsed": true
   },
   "outputs": [],
   "source": [
    "photo_directory = '/Users/heather_m_campbell/Documents/GitHub/452-final-project/Photos'"
   ]
  },
  {
   "cell_type": "code",
   "execution_count": 103,
   "metadata": {},
   "outputs": [
    {
     "name": "stdout",
     "output_type": "stream",
     "text": [
      "/Users/heather_m_campbell/Documents/GitHub/452-final-project/Photos\n"
     ]
    }
   ],
   "source": [
    "print(photo_directory)"
   ]
  },
  {
   "cell_type": "markdown",
   "metadata": {},
   "source": [
    "Generate the file names in a directory tree by walking the tree (default is top-down). For each directory in the tree rooted at directory top (including top itself), it yields a 3-tuple (dirpath, dirnames, filenames)."
   ]
  },
  {
   "cell_type": "code",
   "execution_count": 104,
   "metadata": {},
   "outputs": [
    {
     "name": "stdout",
     "output_type": "stream",
     "text": [
      "<generator object walk at 0x10cbada98>\n"
     ]
    }
   ],
   "source": [
    "allfiles = os.walk(photo_directory)\n",
    "print(allfiles)"
   ]
  },
  {
   "cell_type": "markdown",
   "metadata": {},
   "source": [
    "Loop through allfiles to get file names in all directories. For each directory, assign third value in 3-tuple (position 2), which is a list of files in that directory, to the file_names list. Then, in each loop iteration, use a nested loop to append the extracted files to the all_file_names list. After these loops iterate, all files in all directories should be in the all_file_names list."
   ]
  },
  {
   "cell_type": "markdown",
   "metadata": {},
   "source": [
    "For each file in the file_names list, check "
   ]
  },
  {
   "cell_type": "code",
   "execution_count": 105,
   "metadata": {},
   "outputs": [
    {
     "name": "stdout",
     "output_type": "stream",
     "text": [
      "38\n",
      "[['/Users/heather_m_campbell/Documents/GitHub/452-final-project/Photos', 'IMG_1816.jpeg'], ['/Users/heather_m_campbell/Documents/GitHub/452-final-project/Photos/Girl Geek Week 2013-2', 'Girls Geek Out (10 of 38).jpg'], ['/Users/heather_m_campbell/Documents/GitHub/452-final-project/Photos/Girl Geek Week 2013-2', 'Girls Geek Out (11 of 38).jpg'], ['/Users/heather_m_campbell/Documents/GitHub/452-final-project/Photos/Girl Geek Week 2013-2', 'Girls Geek Out (12 of 38).jpg'], ['/Users/heather_m_campbell/Documents/GitHub/452-final-project/Photos/Girl Geek Week 2013-2', 'Girls Geek Out (13 of 38).jpg'], ['/Users/heather_m_campbell/Documents/GitHub/452-final-project/Photos/Girl Geek Week 2013-2', 'Girls Geek Out (14 of 38).jpg'], ['/Users/heather_m_campbell/Documents/GitHub/452-final-project/Photos/Girl Geek Week 2013-2', 'Girls Geek Out (15 of 38).jpg'], ['/Users/heather_m_campbell/Documents/GitHub/452-final-project/Photos/Girl Geek Week 2013-2', 'Girls Geek Out (16 of 38).jpg'], ['/Users/heather_m_campbell/Documents/GitHub/452-final-project/Photos/Girl Geek Week 2013-2', 'Girls Geek Out (17 of 38).jpg'], ['/Users/heather_m_campbell/Documents/GitHub/452-final-project/Photos/Girl Geek Week 2013-2', 'Girls Geek Out (18 of 38).jpg'], ['/Users/heather_m_campbell/Documents/GitHub/452-final-project/Photos/Girl Geek Week 2013-2', 'Girls Geek Out (19 of 38).jpg'], ['/Users/heather_m_campbell/Documents/GitHub/452-final-project/Photos/Girl Geek Week 2013-2', 'Girls Geek Out (20 of 38).jpg'], ['/Users/heather_m_campbell/Documents/GitHub/452-final-project/Photos/Girl Geek Week 2013-2', 'Girls Geek Out (21 of 38).jpg'], ['/Users/heather_m_campbell/Documents/GitHub/452-final-project/Photos/Girl Geek Week 2013-2', 'Girls Geek Out (22 of 38).jpg'], ['/Users/heather_m_campbell/Documents/GitHub/452-final-project/Photos/Girl Geek Week 2013-2', 'Girls Geek Out (23 of 38).jpg'], ['/Users/heather_m_campbell/Documents/GitHub/452-final-project/Photos/Girl Geek Week 2013-2', 'Girls Geek Out (24 of 38).jpg'], ['/Users/heather_m_campbell/Documents/GitHub/452-final-project/Photos/Girl Geek Week 2013-2', 'Girls Geek Out (25 of 38).jpg'], ['/Users/heather_m_campbell/Documents/GitHub/452-final-project/Photos/Girl Geek Week 2013-2', 'Girls Geek Out (26 of 38).jpg'], ['/Users/heather_m_campbell/Documents/GitHub/452-final-project/Photos/Girl Geek Week 2013-2', 'Girls Geek Out (27 of 38).jpg'], ['/Users/heather_m_campbell/Documents/GitHub/452-final-project/Photos/Girl Geek Week 2013-2', 'Girls Geek Out (28 of 38).jpg'], ['/Users/heather_m_campbell/Documents/GitHub/452-final-project/Photos/Girl Geek Week 2013-2', 'Girls Geek Out (29 of 38).jpg'], ['/Users/heather_m_campbell/Documents/GitHub/452-final-project/Photos/Girl Geek Week 2013-2', 'Girls Geek Out (30 of 38).jpg'], ['/Users/heather_m_campbell/Documents/GitHub/452-final-project/Photos/Girl Geek Week 2013-2', 'Girls Geek Out (31 of 38).jpg'], ['/Users/heather_m_campbell/Documents/GitHub/452-final-project/Photos/Girl Geek Week 2013-2', 'Girls Geek Out (32 of 38).jpg'], ['/Users/heather_m_campbell/Documents/GitHub/452-final-project/Photos/Girl Geek Week 2013-2', 'Girls Geek Out (33 of 38).jpg'], ['/Users/heather_m_campbell/Documents/GitHub/452-final-project/Photos/Girl Geek Week 2013-2', 'Girls Geek Out (34 of 38).jpg'], ['/Users/heather_m_campbell/Documents/GitHub/452-final-project/Photos/Girl Geek Week 2013-2', 'Girls Geek Out (35 of 38).jpg'], ['/Users/heather_m_campbell/Documents/GitHub/452-final-project/Photos/Girl Geek Week 2013-2', 'Girls Geek Out (36 of 38).jpg'], ['/Users/heather_m_campbell/Documents/GitHub/452-final-project/Photos/Girl Geek Week 2013-2', 'Girls Geek Out (37 of 38).jpg'], ['/Users/heather_m_campbell/Documents/GitHub/452-final-project/Photos/Girl Geek Week 2013-2', 'Girls Geek Out (38 of 38).jpg'], ['/Users/heather_m_campbell/Documents/GitHub/452-final-project/Photos/Girl Geek Week 2013-2', 'Girls Geek Out (39 of 38).jpg'], ['/Users/heather_m_campbell/Documents/GitHub/452-final-project/Photos/Girl Geek Week 2013-2', 'Girls Geek Out (40 of 38).jpg'], ['/Users/heather_m_campbell/Documents/GitHub/452-final-project/Photos/Girl Geek Week 2013-2', 'Girls Geek Out (41 of 38).jpg'], ['/Users/heather_m_campbell/Documents/GitHub/452-final-project/Photos/Girl Geek Week 2013-2', 'Girls Geek Out (42 of 38).jpg'], ['/Users/heather_m_campbell/Documents/GitHub/452-final-project/Photos/Girl Geek Week 2013-2', 'Girls Geek Out (43 of 38).jpg'], ['/Users/heather_m_campbell/Documents/GitHub/452-final-project/Photos/Girl Geek Week 2013-2', 'Girls Geek Out (45 of 38).jpg'], ['/Users/heather_m_campbell/Documents/GitHub/452-final-project/Photos/Girl Geek Week 2013-2', 'Girls Geek Out (46 of 38).jpg'], ['/Users/heather_m_campbell/Documents/GitHub/452-final-project/Photos/Girl Geek Week 2013-2', 'Girls Geek Out (47 of 38).jpg']]\n"
     ]
    }
   ],
   "source": [
    "file_names = []\n",
    "file_data = []\n",
    "all_file_data = []\n",
    "\n",
    "for dir in allfiles:\n",
    "    path = dir[0]\n",
    "    file_names = dir[2]\n",
    "#     print(file_names)\n",
    "    for file in file_names:\n",
    "        if 'ipynb' not in file and 'DS_Store' not in file:\n",
    "            file_data = [path, file]\n",
    "            all_file_data.append(file_data)\n",
    "\n",
    "# print(len(all_file_data))\n",
    "\n",
    "# for file in all_file_data:\n",
    "#     if 'ipynb' not in file or 'DS_Store' not in file:\n",
    "#         all_file_data.remove(file)\n",
    "\n",
    "print(len(all_file_data))\n",
    "print(all_file_data)"
   ]
  },
  {
   "cell_type": "markdown",
   "metadata": {},
   "source": [
    "Create empty list for each file's metadata. Create empty list to accumulate all file_data lists. Initialize counter variable so sequential IDs can be assigned to files.\n",
    "\n",
    "mimetypes.guess_type() function returns tuple (type, encoding); type of file is based on extension (IANA); [0] --> print first value in file_format tuple (type)"
   ]
  },
  {
   "cell_type": "code",
   "execution_count": 70,
   "metadata": {},
   "outputs": [
    {
     "name": "stdout",
     "output_type": "stream",
     "text": [
      "1 Girls Geek Out (23 of 38).jpg image/jpeg\n",
      "2 Girls Geek Out (27 of 38).jpg image/jpeg\n",
      "3 Girls Geek Out (29 of 38).jpg image/jpeg\n",
      "4 IMG_1816.jpeg image/jpeg\n",
      "5 Girls Geek Out (10 of 38).jpg image/jpeg\n",
      "6 Girls Geek Out (11 of 38).jpg image/jpeg\n",
      "7 Girls Geek Out (12 of 38).jpg image/jpeg\n",
      "8 Girls Geek Out (13 of 38).jpg image/jpeg\n",
      "9 Girls Geek Out (14 of 38).jpg image/jpeg\n",
      "10 Girls Geek Out (15 of 38).jpg image/jpeg\n",
      "11 Girls Geek Out (16 of 38).jpg image/jpeg\n",
      "12 Girls Geek Out (17 of 38).jpg image/jpeg\n",
      "13 Girls Geek Out (18 of 38).jpg image/jpeg\n",
      "14 Girls Geek Out (19 of 38).jpg image/jpeg\n",
      "15 Girls Geek Out (20 of 38).jpg image/jpeg\n",
      "16 Girls Geek Out (21 of 38).jpg image/jpeg\n",
      "17 Girls Geek Out (22 of 38).jpg image/jpeg\n",
      "18 Girls Geek Out (23 of 38).jpg image/jpeg\n",
      "19 Girls Geek Out (24 of 38).jpg image/jpeg\n",
      "20 Girls Geek Out (25 of 38).jpg image/jpeg\n",
      "21 Girls Geek Out (26 of 38).jpg image/jpeg\n",
      "22 Girls Geek Out (27 of 38).jpg image/jpeg\n",
      "23 Girls Geek Out (28 of 38).jpg image/jpeg\n",
      "24 Girls Geek Out (29 of 38).jpg image/jpeg\n",
      "25 Girls Geek Out (30 of 38).jpg image/jpeg\n",
      "26 Girls Geek Out (31 of 38).jpg image/jpeg\n",
      "27 Girls Geek Out (32 of 38).jpg image/jpeg\n",
      "28 Girls Geek Out (33 of 38).jpg image/jpeg\n",
      "29 Girls Geek Out (34 of 38).jpg image/jpeg\n",
      "30 Girls Geek Out (35 of 38).jpg image/jpeg\n",
      "31 Girls Geek Out (36 of 38).jpg image/jpeg\n",
      "32 Girls Geek Out (37 of 38).jpg image/jpeg\n",
      "33 Girls Geek Out (38 of 38).jpg image/jpeg\n",
      "34 Girls Geek Out (39 of 38).jpg image/jpeg\n",
      "35 Girls Geek Out (40 of 38).jpg image/jpeg\n",
      "36 Girls Geek Out (41 of 38).jpg image/jpeg\n",
      "37 Girls Geek Out (42 of 38).jpg image/jpeg\n",
      "38 Girls Geek Out (43 of 38).jpg image/jpeg\n",
      "39 Girls Geek Out (45 of 38).jpg image/jpeg\n",
      "40 Girls Geek Out (46 of 38).jpg image/jpeg\n",
      "41 Girls Geek Out (47 of 38).jpg image/jpeg\n",
      "[[1, 'Girls Geek Out (23 of 38).jpg', 'image/jpeg'], [2, 'Girls Geek Out (27 of 38).jpg', 'image/jpeg'], [3, 'Girls Geek Out (29 of 38).jpg', 'image/jpeg'], [4, 'IMG_1816.jpeg', 'image/jpeg'], [5, 'Girls Geek Out (10 of 38).jpg', 'image/jpeg'], [6, 'Girls Geek Out (11 of 38).jpg', 'image/jpeg'], [7, 'Girls Geek Out (12 of 38).jpg', 'image/jpeg'], [8, 'Girls Geek Out (13 of 38).jpg', 'image/jpeg'], [9, 'Girls Geek Out (14 of 38).jpg', 'image/jpeg'], [10, 'Girls Geek Out (15 of 38).jpg', 'image/jpeg'], [11, 'Girls Geek Out (16 of 38).jpg', 'image/jpeg'], [12, 'Girls Geek Out (17 of 38).jpg', 'image/jpeg'], [13, 'Girls Geek Out (18 of 38).jpg', 'image/jpeg'], [14, 'Girls Geek Out (19 of 38).jpg', 'image/jpeg'], [15, 'Girls Geek Out (20 of 38).jpg', 'image/jpeg'], [16, 'Girls Geek Out (21 of 38).jpg', 'image/jpeg'], [17, 'Girls Geek Out (22 of 38).jpg', 'image/jpeg'], [18, 'Girls Geek Out (23 of 38).jpg', 'image/jpeg'], [19, 'Girls Geek Out (24 of 38).jpg', 'image/jpeg'], [20, 'Girls Geek Out (25 of 38).jpg', 'image/jpeg'], [21, 'Girls Geek Out (26 of 38).jpg', 'image/jpeg'], [22, 'Girls Geek Out (27 of 38).jpg', 'image/jpeg'], [23, 'Girls Geek Out (28 of 38).jpg', 'image/jpeg'], [24, 'Girls Geek Out (29 of 38).jpg', 'image/jpeg'], [25, 'Girls Geek Out (30 of 38).jpg', 'image/jpeg'], [26, 'Girls Geek Out (31 of 38).jpg', 'image/jpeg'], [27, 'Girls Geek Out (32 of 38).jpg', 'image/jpeg'], [28, 'Girls Geek Out (33 of 38).jpg', 'image/jpeg'], [29, 'Girls Geek Out (34 of 38).jpg', 'image/jpeg'], [30, 'Girls Geek Out (35 of 38).jpg', 'image/jpeg'], [31, 'Girls Geek Out (36 of 38).jpg', 'image/jpeg'], [32, 'Girls Geek Out (37 of 38).jpg', 'image/jpeg'], [33, 'Girls Geek Out (38 of 38).jpg', 'image/jpeg'], [34, 'Girls Geek Out (39 of 38).jpg', 'image/jpeg'], [35, 'Girls Geek Out (40 of 38).jpg', 'image/jpeg'], [36, 'Girls Geek Out (41 of 38).jpg', 'image/jpeg'], [37, 'Girls Geek Out (42 of 38).jpg', 'image/jpeg'], [38, 'Girls Geek Out (43 of 38).jpg', 'image/jpeg'], [39, 'Girls Geek Out (45 of 38).jpg', 'image/jpeg'], [40, 'Girls Geek Out (46 of 38).jpg', 'image/jpeg'], [41, 'Girls Geek Out (47 of 38).jpg', 'image/jpeg']]\n"
     ]
    }
   ],
   "source": [
    "\n",
    "all_file_data = []\n",
    "file_num = 0\n",
    "\n",
    "for file in all_file_names:\n",
    "    file_num = file_num + 1\n",
    "    file_format = mimetypes.guess_type(file, strict=False)\n",
    "    print(file_num, file, file_format[0])\n",
    "    file_data = [file_num, file, file_format[0]]\n",
    "    all_file_data.append(file_data)\n",
    "    \n",
    "print(all_file_data)"
   ]
  },
  {
   "cell_type": "markdown",
   "metadata": {},
   "source": [
    "Read photo metadata. Can't do this via a list; has to access the path of each file."
   ]
  },
  {
   "cell_type": "code",
   "execution_count": 71,
   "metadata": {},
   "outputs": [
    {
     "ename": "TypeError",
     "evalue": "expected str, bytes or os.PathLike object, not list",
     "output_type": "error",
     "traceback": [
      "\u001b[0;31m---------------------------------------------------------------------------\u001b[0m",
      "\u001b[0;31mTypeError\u001b[0m                                 Traceback (most recent call last)",
      "\u001b[0;32m<ipython-input-71-e0805b7d5306>\u001b[0m in \u001b[0;36m<module>\u001b[0;34m()\u001b[0m\n\u001b[1;32m      1\u001b[0m \u001b[0;32mfor\u001b[0m \u001b[0mfile\u001b[0m \u001b[0;32min\u001b[0m \u001b[0mall_file_data\u001b[0m\u001b[0;34m:\u001b[0m\u001b[0;34m\u001b[0m\u001b[0m\n\u001b[0;32m----> 2\u001b[0;31m     \u001b[0mmetadata\u001b[0m \u001b[0;34m=\u001b[0m \u001b[0mopen\u001b[0m\u001b[0;34m(\u001b[0m\u001b[0mfile\u001b[0m\u001b[0;34m,\u001b[0m \u001b[0;34m'rb'\u001b[0m\u001b[0;34m)\u001b[0m\u001b[0;34m\u001b[0m\u001b[0m\n\u001b[0m\u001b[1;32m      3\u001b[0m     \u001b[0mtags\u001b[0m \u001b[0;34m=\u001b[0m \u001b[0mexifread\u001b[0m\u001b[0;34m.\u001b[0m\u001b[0mprocess_file\u001b[0m\u001b[0;34m(\u001b[0m\u001b[0mmetadata\u001b[0m\u001b[0;34m,\u001b[0m \u001b[0mdetails\u001b[0m\u001b[0;34m=\u001b[0m\u001b[0;32mFalse\u001b[0m\u001b[0;34m)\u001b[0m\u001b[0;34m\u001b[0m\u001b[0m\n\u001b[1;32m      4\u001b[0m     \u001b[0mimage_width\u001b[0m \u001b[0;34m=\u001b[0m \u001b[0mtags\u001b[0m\u001b[0;34m.\u001b[0m\u001b[0mget\u001b[0m\u001b[0;34m(\u001b[0m\u001b[0;34m'Image XResolution'\u001b[0m\u001b[0;34m)\u001b[0m\u001b[0;34m\u001b[0m\u001b[0m\n\u001b[1;32m      5\u001b[0m     \u001b[0mprint\u001b[0m\u001b[0;34m(\u001b[0m\u001b[0mfile\u001b[0m\u001b[0;34m,\u001b[0m \u001b[0mimage_width\u001b[0m\u001b[0;34m)\u001b[0m\u001b[0;34m\u001b[0m\u001b[0m\n",
      "\u001b[0;31mTypeError\u001b[0m: expected str, bytes or os.PathLike object, not list"
     ]
    }
   ],
   "source": [
    "# for file in all_file_data:\n",
    "#     metadata = open(file, 'rb')\n",
    "#     tags = exifread.process_file(metadata, details=False)\n",
    "#     image_width = tags.get('Image XResolution')\n",
    "#     print(file, image_width)\n",
    "\n",
    "for file in all_file_data:\n",
    "    metadata = open(file, 'rb')\n",
    "    tags = exifread.process_file(metadata, details=False)\n",
    "    image_width = tags.get('Image XResolution')\n",
    "    print(file, image_width)"
   ]
  },
  {
   "cell_type": "code",
   "execution_count": 2,
   "metadata": {},
   "outputs": [
    {
     "name": "stdout",
     "output_type": "stream",
     "text": [
      "1 .DS_Store None 6148 None\n",
      "2 .gitattributes None 66 None\n",
      "3 EXIF testing.ipynb None 9431 None\n",
      "4 FinalProject.ipynb None 682 None\n",
      "5 Girls Geek Out (23 of 38).jpg image/jpeg 1147640 240\n",
      "6 Girls Geek Out (27 of 38).jpg image/jpeg 1205516 240\n",
      "7 Girls Geek Out (29 of 38).jpg image/jpeg 969649 240\n",
      "8 IMG_1816.jpeg image/jpeg 1694906 72\n",
      "9 LICENSE None 35118 None\n",
      "10 README.md None 20 None\n",
      "11 Untitled.ipynb None 4277 None\n"
     ]
    },
    {
     "ename": "FileNotFoundError",
     "evalue": "[Errno 2] No such file or directory: 'COMMIT_EDITMSG'",
     "output_type": "error",
     "traceback": [
      "\u001b[0;31m---------------------------------------------------------------------------\u001b[0m",
      "\u001b[0;31mFileNotFoundError\u001b[0m                         Traceback (most recent call last)",
      "\u001b[0;32m<ipython-input-2-afddbd996ae7>\u001b[0m in \u001b[0;36m<module>\u001b[0;34m()\u001b[0m\n\u001b[1;32m     13\u001b[0m         \u001b[0mfile_format\u001b[0m \u001b[0;34m=\u001b[0m \u001b[0mmimetypes\u001b[0m\u001b[0;34m.\u001b[0m\u001b[0mguess_type\u001b[0m\u001b[0;34m(\u001b[0m\u001b[0mfile\u001b[0m\u001b[0;34m,\u001b[0m \u001b[0mstrict\u001b[0m\u001b[0;34m=\u001b[0m\u001b[0;32mFalse\u001b[0m\u001b[0;34m)\u001b[0m  \u001b[0;31m# function returns tuple (type, encoding) type of file based on extension (IANA)\u001b[0m\u001b[0;34m\u001b[0m\u001b[0m\n\u001b[1;32m     14\u001b[0m         \u001b[0;31m# file_size = os.stat(file).st_size   # another function to get file size https://docs.python.org/3/library/os.path.html?highlight=getsize\u001b[0m\u001b[0;34m\u001b[0m\u001b[0;34m\u001b[0m\u001b[0m\n\u001b[0;32m---> 15\u001b[0;31m         \u001b[0mfile_size\u001b[0m \u001b[0;34m=\u001b[0m \u001b[0mos\u001b[0m\u001b[0;34m.\u001b[0m\u001b[0mpath\u001b[0m\u001b[0;34m.\u001b[0m\u001b[0mgetsize\u001b[0m\u001b[0;34m(\u001b[0m\u001b[0mfile\u001b[0m\u001b[0;34m)\u001b[0m     \u001b[0;31m# function to get file size in bytes https://docs.python.org/3/library/os.path.html?highlight=getsize\u001b[0m\u001b[0;34m\u001b[0m\u001b[0m\n\u001b[0m\u001b[1;32m     16\u001b[0m \u001b[0;31m# read photo metadata\u001b[0m\u001b[0;34m\u001b[0m\u001b[0;34m\u001b[0m\u001b[0m\n\u001b[1;32m     17\u001b[0m         \u001b[0mmetadata\u001b[0m \u001b[0;34m=\u001b[0m \u001b[0mopen\u001b[0m\u001b[0;34m(\u001b[0m\u001b[0mfile\u001b[0m\u001b[0;34m,\u001b[0m \u001b[0;34m'rb'\u001b[0m\u001b[0;34m)\u001b[0m\u001b[0;34m\u001b[0m\u001b[0m\n",
      "\u001b[0;32m~/anaconda3/lib/python3.6/genericpath.py\u001b[0m in \u001b[0;36mgetsize\u001b[0;34m(filename)\u001b[0m\n\u001b[1;32m     48\u001b[0m \u001b[0;32mdef\u001b[0m \u001b[0mgetsize\u001b[0m\u001b[0;34m(\u001b[0m\u001b[0mfilename\u001b[0m\u001b[0;34m)\u001b[0m\u001b[0;34m:\u001b[0m\u001b[0;34m\u001b[0m\u001b[0m\n\u001b[1;32m     49\u001b[0m     \u001b[0;34m\"\"\"Return the size of a file, reported by os.stat().\"\"\"\u001b[0m\u001b[0;34m\u001b[0m\u001b[0m\n\u001b[0;32m---> 50\u001b[0;31m     \u001b[0;32mreturn\u001b[0m \u001b[0mos\u001b[0m\u001b[0;34m.\u001b[0m\u001b[0mstat\u001b[0m\u001b[0;34m(\u001b[0m\u001b[0mfilename\u001b[0m\u001b[0;34m)\u001b[0m\u001b[0;34m.\u001b[0m\u001b[0mst_size\u001b[0m\u001b[0;34m\u001b[0m\u001b[0m\n\u001b[0m\u001b[1;32m     51\u001b[0m \u001b[0;34m\u001b[0m\u001b[0m\n\u001b[1;32m     52\u001b[0m \u001b[0;34m\u001b[0m\u001b[0m\n",
      "\u001b[0;31mFileNotFoundError\u001b[0m: [Errno 2] No such file or directory: 'COMMIT_EDITMSG'"
     ]
    }
   ],
   "source": [
    "# - collect these new results into a list within the for loop\n",
    "# - use an accumulator to collect all those lists\n",
    "outfile = open('photo_data.csv', 'w')\n",
    "csv_out = csv.writer(outfile)\n",
    "csv_out.writerow(['ID', 'File Name', 'File Format', 'File Size (Bytes)', 'Image Width'] )\n",
    "csv_out.writerows(allfiledata)\n",
    "outfile.close()"
   ]
  }
 ],
 "metadata": {
  "kernelspec": {
   "display_name": "Python 3",
   "language": "python",
   "name": "python3"
  },
  "language_info": {
   "codemirror_mode": {
    "name": "ipython",
    "version": 3
   },
   "file_extension": ".py",
   "mimetype": "text/x-python",
   "name": "python",
   "nbconvert_exporter": "python",
   "pygments_lexer": "ipython3",
   "version": "3.6.3"
  }
 },
 "nbformat": 4,
 "nbformat_minor": 2
}
