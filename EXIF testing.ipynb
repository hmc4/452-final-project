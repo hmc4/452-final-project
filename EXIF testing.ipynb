{
 "cells": [
  {
   "cell_type": "code",
   "execution_count": 1,
   "metadata": {},
   "outputs": [
    {
     "ename": "ModuleNotFoundError",
     "evalue": "No module named 'exif'",
     "output_type": "error",
     "traceback": [
      "\u001b[0;31m---------------------------------------------------------------------------\u001b[0m",
      "\u001b[0;31mModuleNotFoundError\u001b[0m                       Traceback (most recent call last)",
      "\u001b[0;32m<ipython-input-1-6d839a4f352e>\u001b[0m in \u001b[0;36m<module>\u001b[0;34m()\u001b[0m\n\u001b[0;32m----> 1\u001b[0;31m \u001b[0;32mimport\u001b[0m \u001b[0mexif\u001b[0m\u001b[0;34m\u001b[0m\u001b[0m\n\u001b[0m",
      "\u001b[0;31mModuleNotFoundError\u001b[0m: No module named 'exif'"
     ]
    }
   ],
   "source": [
    "import exif"
   ]
  },
  {
   "cell_type": "code",
   "execution_count": 2,
   "metadata": {},
   "outputs": [
    {
     "ename": "NameError",
     "evalue": "name 'python' is not defined",
     "output_type": "error",
     "traceback": [
      "\u001b[0;31m---------------------------------------------------------------------------\u001b[0m",
      "\u001b[0;31mNameError\u001b[0m                                 Traceback (most recent call last)",
      "\u001b[0;32m<ipython-input-2-50e2c9d9c6fd>\u001b[0m in \u001b[0;36m<module>\u001b[0;34m()\u001b[0m\n\u001b[0;32m----> 1\u001b[0;31m \u001b[0mpython\u001b[0m \u001b[0;34m-\u001b[0m\u001b[0;34m-\u001b[0m\u001b[0mversion\u001b[0m\u001b[0;34m\u001b[0m\u001b[0m\n\u001b[0m",
      "\u001b[0;31mNameError\u001b[0m: name 'python' is not defined"
     ]
    }
   ],
   "source": [
    "python --version"
   ]
  },
  {
   "cell_type": "code",
   "execution_count": 3,
   "metadata": {},
   "outputs": [
    {
     "name": "stdout",
     "output_type": "stream",
     "text": [
      "Python 3.6.3 :: Anaconda, Inc.\r\n"
     ]
    }
   ],
   "source": [
    "!python --version"
   ]
  },
  {
   "cell_type": "code",
   "execution_count": 4,
   "metadata": {},
   "outputs": [
    {
     "name": "stdout",
     "output_type": "stream",
     "text": [
      "pip 9.0.1 from /Users/heather_m_campbell/anaconda3/lib/python3.6/site-packages (python 3.6)\r\n"
     ]
    }
   ],
   "source": [
    "!pip --version"
   ]
  },
  {
   "cell_type": "code",
   "execution_count": 5,
   "metadata": {},
   "outputs": [
    {
     "name": "stdout",
     "output_type": "stream",
     "text": [
      "Collecting exifread\n",
      "  Downloading https://files.pythonhosted.org/packages/7b/cb/92b644626830115910cf2b36d3dfa600adbec86dff3207a7de3bfd6c6a60/ExifRead-2.1.2.tar.gz\n",
      "Building wheels for collected packages: exifread\n",
      "  Running setup.py bdist_wheel for exifread ... \u001b[?25ldone\n",
      "\u001b[?25h  Stored in directory: /Users/heather_m_campbell/Library/Caches/pip/wheels/a2/82/de/fd5f70739a3c8d7475cc21f4e186150abbc5d77180af7d94a2\n",
      "Successfully built exifread\n",
      "Installing collected packages: exifread\n",
      "Successfully installed exifread-2.1.2\n",
      "\u001b[33mYou are using pip version 9.0.1, however version 10.0.1 is available.\n",
      "You should consider upgrading via the 'pip install --upgrade pip' command.\u001b[0m\n"
     ]
    }
   ],
   "source": [
    "!pip install exifread"
   ]
  },
  {
   "cell_type": "code",
   "execution_count": 6,
   "metadata": {
    "collapsed": true
   },
   "outputs": [],
   "source": [
    "import exifread"
   ]
  },
  {
   "cell_type": "code",
   "execution_count": null,
   "metadata": {
    "collapsed": true
   },
   "outputs": [],
   "source": [
    "Metadata for an image from the test collection:"
   ]
  },
  {
   "cell_type": "code",
   "execution_count": 7,
   "metadata": {},
   "outputs": [
    {
     "name": "stdout",
     "output_type": "stream",
     "text": [
      "Image Make :  Canon\n",
      "Image Model :  Canon EOS REBEL T3i\n",
      "Image XResolution :  240\n",
      "Image YResolution :  240\n",
      "Image ResolutionUnit :  Pixels/Inch\n",
      "Image Software :  Adobe Photoshop Lightroom 4.2 (Windows)\n",
      "Image DateTime :  2013:02:24 14:36:20\n",
      "Image ExifOffset :  212\n",
      "Thumbnail Compression :  JPEG (old-style)\n",
      "Thumbnail XResolution :  72\n",
      "Thumbnail YResolution :  72\n",
      "Thumbnail ResolutionUnit :  Pixels/Inch\n",
      "Thumbnail JPEGInterchangeFormat :  836\n",
      "Thumbnail JPEGInterchangeFormatLength :  14728\n",
      "EXIF ExposureTime :  1/3200\n",
      "EXIF FNumber :  7/5\n",
      "EXIF ExposureProgram :  Aperture Priority\n",
      "EXIF ISOSpeedRatings :  1600\n",
      "EXIF SensitivityType :  Recommended Exposure Index\n",
      "EXIF RecommendedExposureIndex :  1600\n",
      "EXIF ExifVersion :  0230\n",
      "EXIF DateTimeOriginal :  2013:02:18 15:51:28\n",
      "EXIF DateTimeDigitized :  2013:02:18 15:51:28\n",
      "EXIF ShutterSpeedValue :  727741/62500\n",
      "EXIF ApertureValue :  485427/500000\n",
      "EXIF ExposureBiasValue :  0\n",
      "EXIF MaxApertureValue :  1\n",
      "EXIF MeteringMode :  Pattern\n",
      "EXIF Flash :  Flash did not fire, compulsory flash mode\n",
      "EXIF FocalLength :  30\n",
      "EXIF SubSecTimeOriginal :  67\n",
      "EXIF SubSecTimeDigitized :  67\n",
      "EXIF FocalPlaneXResolution :  1036800/181\n",
      "EXIF FocalPlaneYResolution :  691200/119\n",
      "EXIF FocalPlaneResolutionUnit :  2\n",
      "EXIF CustomRendered :  Normal\n",
      "EXIF ExposureMode :  Auto Exposure\n",
      "EXIF WhiteBalance :  Auto\n",
      "EXIF SceneCaptureType :  Standard\n",
      "EXIF BodySerialNumber :  042022005027\n",
      "EXIF LensSpecification :  [30, 30, 0/0, 0/0]\n",
      "EXIF LensModel :  30mm\n",
      "EXIF LensSerialNumber :  0000000000\n"
     ]
    }
   ],
   "source": [
    "metadata = open('Girls Geek Out (23 of 38).jpg', 'rb')   # Open image file for reading (binary mode)\n",
    "tags = exifread.process_file(metadata, details=False)    # Return Exif tags in dictionary (key-value)\n",
    "# details=False argument means \"Don’t process makernote tags, don’t extract the thumbnail image\"\n",
    "for tag in tags.keys():\n",
    "    print(tag, ': ', tags[tag])"
   ]
  },
  {
   "cell_type": "markdown",
   "metadata": {},
   "source": [
    "Metadata for an image taken with an iPhone:"
   ]
  },
  {
   "cell_type": "code",
   "execution_count": 8,
   "metadata": {},
   "outputs": [
    {
     "name": "stdout",
     "output_type": "stream",
     "text": [
      "Image Make :  Apple\n",
      "Image Model :  iPhone 7\n",
      "Image Orientation :  Rotated 90 CW\n",
      "Image XResolution :  72\n",
      "Image YResolution :  72\n",
      "Image ResolutionUnit :  Pixels/Inch\n",
      "Image Software :  11.2.1\n",
      "Image DateTime :  2018:01:05 16:24:09\n",
      "Image ExifOffset :  194\n",
      "GPS GPSLatitudeRef :  N\n",
      "GPS GPSLatitude :  [37, 47, 1031/100]\n",
      "GPS GPSLongitudeRef :  W\n",
      "GPS GPSLongitude :  [122, 24, 73/25]\n",
      "GPS GPSSpeedRef :  K\n",
      "GPS GPSSpeed :  0\n",
      "GPS GPSImgDirectionRef :  M\n",
      "GPS GPSImgDirection :  14207/76\n",
      "GPS GPSDestBearingRef :  M\n",
      "GPS GPSDestBearing :  14207/76\n",
      "GPS Tag 0x001F :  3190/997\n",
      "Image GPSInfo :  1756\n",
      "EXIF ExposureTime :  1/15\n",
      "EXIF FNumber :  9/5\n",
      "EXIF ExposureProgram :  Program Normal\n",
      "EXIF ISOSpeedRatings :  80\n",
      "EXIF ExifVersion :  0221\n",
      "EXIF DateTimeOriginal :  2018:01:05 16:24:09\n",
      "EXIF DateTimeDigitized :  2018:01:05 16:24:09\n",
      "EXIF ComponentsConfiguration :  YCbCr\n",
      "EXIF ShutterSpeedValue :  2435/623\n",
      "EXIF ApertureValue :  2159/1273\n",
      "EXIF BrightnessValue :  5445/4639\n",
      "EXIF ExposureBiasValue :  0\n",
      "EXIF MeteringMode :  Pattern\n",
      "EXIF Flash :  Flash did not fire, compulsory flash mode\n",
      "EXIF FocalLength :  399/100\n",
      "EXIF SubjectArea :  [666, 854, 247, 247]\n",
      "EXIF SubSecTimeOriginal :  063\n",
      "EXIF SubSecTimeDigitized :  063\n",
      "EXIF FlashPixVersion :  0100\n",
      "EXIF ColorSpace :  sRGB\n",
      "EXIF ExifImageWidth :  4032\n",
      "EXIF ExifImageLength :  3024\n",
      "EXIF SensingMethod :  One-chip color area\n",
      "EXIF SceneType :  Directly Photographed\n",
      "EXIF ExposureMode :  Auto Exposure\n",
      "EXIF WhiteBalance :  Auto\n",
      "EXIF DigitalZoomRatio :  1512/887\n",
      "EXIF FocalLengthIn35mmFilm :  53\n",
      "EXIF SceneCaptureType :  Standard\n",
      "EXIF LensSpecification :  [399/100, 399/100, 9/5, 9/5]\n",
      "EXIF LensMake :  Apple\n",
      "EXIF LensModel :  iPhone 7 back camera 3.99mm f/1.8\n"
     ]
    }
   ],
   "source": [
    "metadata = open('IMG_1816.jpeg', 'rb')\n",
    "tags = exifread.process_file(metadata, details=False)\n",
    "for tag in tags.keys():\n",
    "    print(tag, ': ', tags[tag])"
   ]
  }
 ],
 "metadata": {
  "kernelspec": {
   "display_name": "Python 3",
   "language": "python",
   "name": "python3"
  },
  "language_info": {
   "codemirror_mode": {
    "name": "ipython",
    "version": 3
   },
   "file_extension": ".py",
   "mimetype": "text/x-python",
   "name": "python",
   "nbconvert_exporter": "python",
   "pygments_lexer": "ipython3",
   "version": "3.6.3"
  }
 },
 "nbformat": 4,
 "nbformat_minor": 2
}
