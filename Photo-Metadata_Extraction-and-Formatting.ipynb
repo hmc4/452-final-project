{
 "cells": [
  {
   "cell_type": "markdown",
   "metadata": {},
   "source": [
    "# Photo Metadata Extraction and Formatting"
   ]
  },
  {
   "cell_type": "markdown",
   "metadata": {},
   "source": [
    "## Overview"
   ]
  },
  {
   "cell_type": "markdown",
   "metadata": {},
   "source": [
    "This program extracts selected metadata from photos in a directory and formats the metadata as a CSV (comma-separated values) text file. The resulting CSV file can be opened and edited in a spreadsheet application; it also can be used to upload metadata to a digital library system."
   ]
  },
  {
   "cell_type": "markdown",
   "metadata": {},
   "source": [
    "## Step 1: Import modules\n",
    "Sources for the modules used in this program:\n",
    "https://docs.python.org/3/library/os.html#files-and-directories\n",
    "https://docs.python.org/3/library/mimetypes.html\n",
    "https://pypi.org/project/ExifRead/\n",
    "https://docs.python.org/3/library/csv.html"
   ]
  },
  {
   "cell_type": "code",
   "execution_count": 1,
   "metadata": {
    "collapsed": true
   },
   "outputs": [],
   "source": [
    "import os\n",
    "import mimetypes\n",
    "import exifread\n",
    "import csv"
   ]
  },
  {
   "cell_type": "markdown",
   "metadata": {},
   "source": [
    "## Step 2: Identify the photo directory"
   ]
  },
  {
   "cell_type": "code",
   "execution_count": 2,
   "metadata": {
    "collapsed": true
   },
   "outputs": [],
   "source": [
    "photo_directory = '/Users/heather_m_campbell/Documents/GitHub/452-final-project/Photos'"
   ]
  },
  {
   "cell_type": "markdown",
   "metadata": {},
   "source": [
    "Use the len() function to verify the number of files in your directory."
   ]
  },
  {
   "cell_type": "code",
   "execution_count": 3,
   "metadata": {},
   "outputs": [
    {
     "name": "stdout",
     "output_type": "stream",
     "text": [
      "67\n"
     ]
    }
   ],
   "source": [
    "print(len(photo_directory))"
   ]
  },
  {
   "cell_type": "markdown",
   "metadata": {},
   "source": [
    "Generate the file names in a directory tree by walking the tree (default is top-down). For each directory in the tree rooted at directory top (including top itself), it yields a 3-tuple (dirpath, dirnames, filenames)."
   ]
  },
  {
   "cell_type": "code",
   "execution_count": 240,
   "metadata": {},
   "outputs": [
    {
     "name": "stdout",
     "output_type": "stream",
     "text": [
      "<generator object walk at 0x10cc983b8>\n"
     ]
    }
   ],
   "source": [
    "allfiles = os.walk(photo_directory)\n",
    "print(allfiles)"
   ]
  },
  {
   "cell_type": "markdown",
   "metadata": {},
   "source": [
    "Loop through allfiles to get file names in all directories. For each directory, assign third value in 3-tuple (position 2), which is a list of files in that directory, to the file_names list. Then, in each loop iteration, use a nested loop to append the extracted files to the all_file_names list. After these loops iterate, all files in all directories should be in the all_file_names list."
   ]
  },
  {
   "cell_type": "markdown",
   "metadata": {},
   "source": [
    "For each file in the file_names list, check if file name contains 'ipynb' or 'DS_Store.' Don't want to include those nonimage files in output. In if statement, use Boolean AND to make sure both conditions are met."
   ]
  },
  {
   "cell_type": "code",
   "execution_count": 241,
   "metadata": {},
   "outputs": [
    {
     "name": "stdout",
     "output_type": "stream",
     "text": [
      "115\n"
     ]
    }
   ],
   "source": [
    "file_num = 0\n",
    "file_names = []\n",
    "file_data = []\n",
    "all_file_list = []\n",
    "\n",
    "for dir in allfiles:\n",
    "    path = dir[0]\n",
    "#     folder = dir[1]    # doesn't work b/c returns list of directories at that level\n",
    "    folder = path[(len(photo_directory)+1):]  # slice path after photo directory to get folder\n",
    "    file_names = dir[2]\n",
    "#     print(file_names)\n",
    "    for file in file_names:\n",
    "        if 'ipynb' not in file and 'DS_Store' not in file:\n",
    "            file_num = file_num + 1\n",
    "            file_data = [file_num, path, folder, file]\n",
    "            all_file_list.append(file_data)\n",
    "\n",
    "print(len(all_file_list))\n",
    "# print(all_file_list)"
   ]
  },
  {
   "cell_type": "code",
   "execution_count": 242,
   "metadata": {
    "collapsed": true
   },
   "outputs": [],
   "source": [
    "# print(all_file_list)"
   ]
  },
  {
   "cell_type": "markdown",
   "metadata": {},
   "source": [
    "Create empty list for each file's metadata. Create empty list to accumulate all file_data lists. Initialize counter variable so sequential IDs can be assigned to files.\n",
    "\n",
    "mimetypes.guess_type() function returns tuple (type, encoding); type of file is based on extension (IANA); [0] --> print first value in file_format tuple (type)"
   ]
  },
  {
   "cell_type": "markdown",
   "metadata": {},
   "source": [
    "The all_file_list now comprises a list for each file, containing the file ID number (position 0), path (position 1), folder (position 2), and file name (position 3)."
   ]
  },
  {
   "cell_type": "markdown",
   "metadata": {},
   "source": [
    "Read photo metadata. Can't do this via a list; has to access the path of each file."
   ]
  },
  {
   "cell_type": "code",
   "execution_count": 243,
   "metadata": {
    "collapsed": true
   },
   "outputs": [],
   "source": [
    "file_metadata = []\n",
    "all_file_metadata = []\n",
    "\n",
    "for file in all_file_list:\n",
    "    file_ID = file[0]\n",
    "    event = file[2]\n",
    "    file_name = file[3]\n",
    "    file_path = file[1] + '/' + file_name    \n",
    "    file_format = mimetypes.guess_type(file_path, strict=False)\n",
    "    file_size = os.stat(file_path).st_size\n",
    "    file_size_MB = round((file_size*.000001),2)  # round to 2 decimal places\n",
    "    image_metadata = open(file_path, 'rb')\n",
    "    tags = exifread.process_file(image_metadata, details=False)\n",
    "    datetime_original = tags.get('EXIF DateTimeOriginal')\n",
    "    datetime_digitized = tags.get('EXIF DateTimeOriginal')\n",
    "    image_software = tags.get('Image Software')\n",
    "    image_width = tags.get('Image XResolution')\n",
    "    image_height = tags.get('Image YResolution')\n",
    "    image_units = tags.get('Image ResolutionUnit')\n",
    "    latitude_ref = tags.get('GPS GPSLatitudeRef') # generates a list of coordinates\n",
    "    latitude = tags.get('GPS GPSLatitude')\n",
    "    longitude_ref = tags.get('GPS GPSLongitudeRef')\n",
    "    longitude = tags.get('GPS GPSLongitude')\n",
    "    camera = tags.get('Image Model')\n",
    "    exposure = tags.get('EXIF ExposureTime')\n",
    "    flash = tags.get('EXIF Flash')\n",
    "    lens = tags.get('EXIF LensModel')\n",
    "    file_metadata = [file_ID, event, file_name, file_format[0], file_size, file_size_MB, \n",
    "                     datetime_original, datetime_digitized,\n",
    "                     image_software, image_width, image_height, image_units, \n",
    "                     latitude_ref, latitude, longitude_ref, longitude, \n",
    "                     camera, exposure, flash, lens]\n",
    "    all_file_metadata.append(file_metadata)\n",
    "    \n",
    "# print(all_file_metadata)"
   ]
  },
  {
   "cell_type": "markdown",
   "metadata": {},
   "source": [
    "csv.writer() method\n",
    "column headers for fields: [file_ID, event, file_name, file_format[0], file_size, file_size_MB, camera, image_software, image_width, image_height, image_units, latitude, datetime_original, datetime_digitized]"
   ]
  },
  {
   "cell_type": "code",
   "execution_count": 244,
   "metadata": {
    "collapsed": true
   },
   "outputs": [],
   "source": [
    "outfile = open('photo_data.csv', 'w')\n",
    "csv_out = csv.writer(outfile)\n",
    "csv_out.writerow(['ID', 'Event', 'File Name', 'File Format', 'File Size (Bytes)',\n",
    "                  'File Size (MB)', 'Date Taken', 'Date Digitized',\n",
    "                  'Software', 'Image Width', 'Image Height', 'Units', \n",
    "                  'Latitude', 'Coordinates', 'Longitude', 'Coordinates',\n",
    "                  'Camera', 'Exposure Time', 'Flash Used?', 'Lens Model'] )\n",
    "csv_out.writerows(all_file_metadata)\n",
    "outfile.close()"
   ]
  },
  {
   "cell_type": "code",
   "execution_count": null,
   "metadata": {
    "collapsed": true
   },
   "outputs": [],
   "source": []
  }
 ],
 "metadata": {
  "kernelspec": {
   "display_name": "Python 3",
   "language": "python",
   "name": "python3"
  },
  "language_info": {
   "codemirror_mode": {
    "name": "ipython",
    "version": 3
   },
   "file_extension": ".py",
   "mimetype": "text/x-python",
   "name": "python",
   "nbconvert_exporter": "python",
   "pygments_lexer": "ipython3",
   "version": "3.6.3"
  }
 },
 "nbformat": 4,
 "nbformat_minor": 2
}
