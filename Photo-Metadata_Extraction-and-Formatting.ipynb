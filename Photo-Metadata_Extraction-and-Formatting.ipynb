{
 "cells": [
  {
   "cell_type": "markdown",
   "metadata": {},
   "source": [
    "# Photo Metadata Extraction and Formatting"
   ]
  },
  {
   "cell_type": "markdown",
   "metadata": {},
   "source": [
    "## Overview"
   ]
  },
  {
   "cell_type": "markdown",
   "metadata": {},
   "source": [
    "This program extracts selected metadata from photos in a directory and formats the metadata as a CSV (comma-separated values) text file. The resulting CSV file can be opened and edited in a spreadsheet application; it also can be used to upload metadata to a digital library system."
   ]
  },
  {
   "cell_type": "markdown",
   "metadata": {},
   "source": [
    "## Step 1: Import modules.\n",
    "Sources for the modules used in this program:<br>\n",
    "<ul>\n",
    "<li>https://docs.python.org/3/library/os.html#files-and-directories\n",
    "<li>https://docs.python.org/3/library/mimetypes.html\n",
    "<li>https://pypi.org/project/ExifRead/\n",
    "<li>https://docs.python.org/3/library/csv.html</ul><br>\n",
    "For information about Exchangeable Image File Format (EXIF) metadata, see https://en.wikipedia.org/wiki/Exif."
   ]
  },
  {
   "cell_type": "code",
   "execution_count": 1,
   "metadata": {
    "collapsed": true
   },
   "outputs": [],
   "source": [
    "import os\n",
    "import mimetypes\n",
    "import exifread\n",
    "import csv"
   ]
  },
  {
   "cell_type": "markdown",
   "metadata": {},
   "source": [
    "## Step 2: Identify the photo directory."
   ]
  },
  {
   "cell_type": "markdown",
   "metadata": {},
   "source": [
    "Prompt the user to enter the path to a directory of photos from which to extract metadata. The example indicates the GitHub repository '/Users/heather_m_campbell/Documents/GitHub/452-final-project/Photos'.<br>\n",
    "<br>Assign the path string to the ```photo_directory``` variable."
   ]
  },
  {
   "cell_type": "code",
   "execution_count": 2,
   "metadata": {},
   "outputs": [
    {
     "name": "stdout",
     "output_type": "stream",
     "text": [
      "Enter the file path to your photo directory: '/Users/heather_m_campbell/Documents/GitHub/452-final-project/Photos'\n"
     ]
    }
   ],
   "source": [
    "photo_directory = input('Enter the file path to your photo directory: ')"
   ]
  },
  {
   "cell_type": "markdown",
   "metadata": {},
   "source": [
    "## Step 3: Generate the file names in the photo directory tree.\n",
    "Use the os.walk() function to generate file names. By default, this function \"walks\" the tree from the top root down. For each directory in the tree, including the root itself, the function yields a 3-tuple (directory path [0], directory names [1], file names [2]).\n",
    "Assign the resulting object to the ```allfiles``` variable."
   ]
  },
  {
   "cell_type": "code",
   "execution_count": 3,
   "metadata": {},
   "outputs": [
    {
     "name": "stdout",
     "output_type": "stream",
     "text": [
      "<generator object walk at 0x111af5f68>\n"
     ]
    }
   ],
   "source": [
    "allfiles = os.walk(photo_directory)\n",
    "print(allfiles)"
   ]
  },
  {
   "cell_type": "markdown",
   "metadata": {},
   "source": [
    "## Step 4: Use loops to collect file information in a list.\n",
    "For each directory in the ```allfiles``` object, the outer loop assigns the first value in the 3-tuple, the path (position 0), to the ```path``` variable.<br>\n",
    "<br>Then the ```path``` string is sliced to extract the subdirectory name (```folder```), if any; the slicing operation uses the length of the ```photo_directory``` string as the starting position, plus 1 to exclude the slash before the folder name.<br>\n",
    "<br>Next, the third value in the 3-tuple (position 2), which is a list of files in that directory, is assigned to the ```file_names``` list.<br>\n",
    "<br>The inner loop executes if the file name does not contain 'ipynb' or 'DS_Store', as it is unnecessary to include those nonimage files in the output. Note: In the ```if``` statement, the Boolean operator AND ensures both conditions are met.<br>\n",
    "<br>The inner loop goes through the ```file_names``` list. In each iteration, it uses a counter to create a file ID, ```file_num```, and creates a list of data (```file_data```) about the file: its ID, its path, its folder, and the file name. Finally, it appends the ```file_data``` list to the larger ```all_file_list```.<br>\n",
    "<br>After these loops iterate, ```all_file_list``` contains lists of data about every file in all subdirectories in the photo directory."
   ]
  },
  {
   "cell_type": "code",
   "execution_count": 4,
   "metadata": {},
   "outputs": [
    {
     "name": "stdout",
     "output_type": "stream",
     "text": [
      "0 files to process.\n"
     ]
    }
   ],
   "source": [
    "file_num = 0\n",
    "file_names = []\n",
    "file_data = []\n",
    "all_file_list = []\n",
    "\n",
    "for dir in allfiles:\n",
    "    path = dir[0]\n",
    "    folder = path[(len(photo_directory)+1):]  # slice path after photo directory to get folder\n",
    "    file_names = dir[2]\n",
    "    for file in file_names:\n",
    "        if 'ipynb' not in file and 'DS_Store' not in file:\n",
    "            file_num = file_num + 1\n",
    "            file_data = [file_num, path, folder, file]\n",
    "            all_file_list.append(file_data)\n",
    "\n",
    "print(len(all_file_list), 'files to process.')\n",
    "# print(all_file_list)  # Use this statement to view the contents of the list."
   ]
  },
  {
   "cell_type": "markdown",
   "metadata": {},
   "source": [
    "## Step 5: Extract metadata from files.\n",
    "The ```all_file_list``` now comprises a list for each file in the photo directory. Each file list contains the file ID number (position 0), its path (position 1), its folder (position 2), and its name (position 3). The next loop adds extracted metadata to these lists.<br>\n",
    "<br>For each file list, the loop assigns values to variables that will correspond to column headings in the CSV file. Values from the previously generated file lists are assigned to the first several variables in the loop.<br>\n",
    "<br>Several functions used in the loop require a complete file path, including the file name, so the ```file_path``` variable concatenates the path, a slash, and the file name.<br>\n",
    "<br>To get the file format, the ```mimetypes.guess_type()``` function returns a tuple (type, encoding), based on the file extension. Later in the loop, ```file_format[0]``` returns only the first value in the tuple, the file type.<br>\n",
    "<br>The ```os.stat(file_path).st_size``` function provides the file size in bytes. For the subsequent variable, the ```file_size``` value is multiplied by 0.000001 to get the size in megabytes.<br>\n",
    "<br>Next, the program prepares to extract the image metadata by opening the file in binary mode. The ```exifread.process_file()``` function creates a dictionary of EXIF tags and their values. The dictionary ```.get()``` method then can be used to retrieve the values for specified tags.<br>\n",
    "<br>Finally, the data collected for the file is assigned to the ```file_metadata``` list, which, in turn, is appended to the larger ```all_file_metadata``` list."
   ]
  },
  {
   "cell_type": "code",
   "execution_count": 5,
   "metadata": {
    "collapsed": true
   },
   "outputs": [],
   "source": [
    "file_metadata = []\n",
    "all_file_metadata = []\n",
    "\n",
    "for file in all_file_list:\n",
    "    file_ID = file[0]\n",
    "    event = file[2]\n",
    "    file_name = file[3]\n",
    "    file_path = file[1] + '/' + file_name    \n",
    "    file_format = mimetypes.guess_type(file_path, strict=False)\n",
    "    file_size = os.stat(file_path).st_size\n",
    "    file_size_MB = round((file_size*0.000001),2)  # round to 2 decimal places\n",
    "    image_metadata = open(file_path, 'rb')\n",
    "    tags = exifread.process_file(image_metadata, details=False)\n",
    "    datetime_original = tags.get('EXIF DateTimeOriginal')\n",
    "    datetime_digitized = tags.get('EXIF DateTimeOriginal')\n",
    "    image_software = tags.get('Image Software')\n",
    "    image_width = tags.get('Image XResolution')\n",
    "    image_height = tags.get('Image YResolution')\n",
    "    image_units = tags.get('Image ResolutionUnit')\n",
    "    latitude_ref = tags.get('GPS GPSLatitudeRef') # generates a list of coordinates\n",
    "    latitude = tags.get('GPS GPSLatitude')\n",
    "    longitude_ref = tags.get('GPS GPSLongitudeRef')\n",
    "    longitude = tags.get('GPS GPSLongitude')\n",
    "    camera = tags.get('Image Model')\n",
    "    exposure = tags.get('EXIF ExposureTime')\n",
    "    flash = tags.get('EXIF Flash')\n",
    "    lens = tags.get('EXIF LensModel')\n",
    "    file_metadata = [file_ID, event, file_name, file_format[0], file_size, file_size_MB, \n",
    "                     datetime_original, datetime_digitized,\n",
    "                     image_software, image_width, image_height, image_units, \n",
    "                     latitude_ref, latitude, longitude_ref, longitude, \n",
    "                     camera, exposure, flash, lens]\n",
    "    all_file_metadata.append(file_metadata)\n",
    "    \n",
    "# print(all_file_metadata)"
   ]
  },
  {
   "cell_type": "markdown",
   "metadata": {},
   "source": [
    "## Step 6: Output file metadata in CSV format.\n",
    "Now that the ```all_file_metadata``` list holds metadata for all files in the photo directory, this information can be written out as a CSV file.<br>\n",
    "<br>First, the ```photo_data.csv``` file is opened for writing. Then the ```csv.writer()``` method is used to populate the file. The first row is populated by column headings that correspond to the metadata values in the list. Each subsequent row is populated by the values in each file list collected in ```all_file_metadata```. Last, the populated file is closed.<br>\n",
    "<br>The resulting CSV file is immediately visible in the same directory as the program file."
   ]
  },
  {
   "cell_type": "code",
   "execution_count": 6,
   "metadata": {},
   "outputs": [
    {
     "name": "stdout",
     "output_type": "stream",
     "text": [
      "Your CSV file is ready.\n"
     ]
    }
   ],
   "source": [
    "outfile = open('photo_data.csv', 'w')\n",
    "csv_out = csv.writer(outfile)\n",
    "csv_out.writerow(['ID', 'Event', 'File Name', 'File Format', 'File Size (Bytes)',\n",
    "                  'File Size (MB)', 'Date Taken', 'Date Digitized',\n",
    "                  'Software', 'Image Width', 'Image Height', 'Units', \n",
    "                  'Latitude', 'DMS', 'Longitude', 'DMS',\n",
    "                  'Camera', 'Exposure Time', 'Flash Used?', 'Lens Model'] )\n",
    "csv_out.writerows(all_file_metadata)\n",
    "outfile.close()\n",
    "\n",
    "print('Your CSV file is ready.')"
   ]
  }
 ],
 "metadata": {
  "kernelspec": {
   "display_name": "Python 3",
   "language": "python",
   "name": "python3"
  },
  "language_info": {
   "codemirror_mode": {
    "name": "ipython",
    "version": 3
   },
   "file_extension": ".py",
   "mimetype": "text/x-python",
   "name": "python",
   "nbconvert_exporter": "python",
   "pygments_lexer": "ipython3",
   "version": "3.6.3"
  }
 },
 "nbformat": 4,
 "nbformat_minor": 2
}
